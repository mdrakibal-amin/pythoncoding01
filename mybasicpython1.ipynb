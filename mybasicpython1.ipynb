{
 "cells": [
  {
   "cell_type": "code",
   "execution_count": 1,
   "id": "b30e0148",
   "metadata": {},
   "outputs": [
    {
     "name": "stdout",
     "output_type": "stream",
     "text": [
      "Hello world!!!\n"
     ]
    }
   ],
   "source": [
    "print(\"Hello world!!!\")"
   ]
  },
  {
   "cell_type": "code",
   "execution_count": 2,
   "id": "7b5dd063",
   "metadata": {},
   "outputs": [
    {
     "data": {
      "text/plain": [
       "' Hello Data Scientist '"
      ]
     },
     "execution_count": 2,
     "metadata": {},
     "output_type": "execute_result"
    }
   ],
   "source": [
    "\" Hello Data Scientist \""
   ]
  },
  {
   "cell_type": "markdown",
   "id": "c7aee400",
   "metadata": {},
   "source": [
    "# Data types"
   ]
  },
  {
   "cell_type": "code",
   "execution_count": 5,
   "id": "4ff8ba2f",
   "metadata": {},
   "outputs": [],
   "source": [
    "int_data = 45\n",
    "float_data = 67.234569\n",
    "char_data =  \"SDFghj\"\n",
    "boolean_data_True = True\n",
    "boolean_data_False = False"
   ]
  },
  {
   "cell_type": "code",
   "execution_count": 6,
   "id": "e84a2cf5",
   "metadata": {},
   "outputs": [
    {
     "data": {
      "text/plain": [
       "45"
      ]
     },
     "execution_count": 6,
     "metadata": {},
     "output_type": "execute_result"
    }
   ],
   "source": [
    "int_data"
   ]
  },
  {
   "cell_type": "code",
   "execution_count": 7,
   "id": "81fe7da3",
   "metadata": {},
   "outputs": [
    {
     "data": {
      "text/plain": [
       "67.234569"
      ]
     },
     "execution_count": 7,
     "metadata": {},
     "output_type": "execute_result"
    }
   ],
   "source": [
    "float_data"
   ]
  },
  {
   "cell_type": "code",
   "execution_count": 8,
   "id": "5435aba6",
   "metadata": {},
   "outputs": [
    {
     "data": {
      "text/plain": [
       "(45, 67.234569, 'SDFghj', True, False)"
      ]
     },
     "execution_count": 8,
     "metadata": {},
     "output_type": "execute_result"
    }
   ],
   "source": [
    "int_data, float_data, char_data, boolean_data_True, boolean_data_False"
   ]
  },
  {
   "cell_type": "markdown",
   "id": "0678e02c",
   "metadata": {},
   "source": [
    "# Varriable"
   ]
  },
  {
   "cell_type": "code",
   "execution_count": 9,
   "id": "a2a3b65d",
   "metadata": {},
   "outputs": [
    {
     "data": {
      "text/plain": [
       "456.88"
      ]
     },
     "execution_count": 9,
     "metadata": {},
     "output_type": "execute_result"
    }
   ],
   "source": [
    "456.88"
   ]
  },
  {
   "cell_type": "code",
   "execution_count": 10,
   "id": "7ee3d379",
   "metadata": {},
   "outputs": [],
   "source": [
    "name = \"Md Rakib Al-Amin\"\n",
    "age = 23"
   ]
  },
  {
   "cell_type": "code",
   "execution_count": 11,
   "id": "7405231e",
   "metadata": {},
   "outputs": [
    {
     "data": {
      "text/plain": [
       "'Md Rakib Al-Amin'"
      ]
     },
     "execution_count": 11,
     "metadata": {},
     "output_type": "execute_result"
    }
   ],
   "source": [
    "name"
   ]
  },
  {
   "cell_type": "code",
   "execution_count": 12,
   "id": "888d7f7d",
   "metadata": {},
   "outputs": [
    {
     "data": {
      "text/plain": [
       "23"
      ]
     },
     "execution_count": 12,
     "metadata": {},
     "output_type": "execute_result"
    }
   ],
   "source": [
    "age"
   ]
  },
  {
   "cell_type": "code",
   "execution_count": 15,
   "id": "5a0e45cf",
   "metadata": {},
   "outputs": [],
   "source": [
    "id1 = \"181-AB-Cd567\""
   ]
  },
  {
   "cell_type": "code",
   "execution_count": 16,
   "id": "c89d2f11",
   "metadata": {},
   "outputs": [
    {
     "data": {
      "text/plain": [
       "'181-AB-Cd567'"
      ]
     },
     "execution_count": 16,
     "metadata": {},
     "output_type": "execute_result"
    }
   ],
   "source": [
    "id1"
   ]
  },
  {
   "cell_type": "code",
   "execution_count": 17,
   "id": "c61ac783",
   "metadata": {},
   "outputs": [
    {
     "data": {
      "text/plain": [
       "1598596370144"
      ]
     },
     "execution_count": 17,
     "metadata": {},
     "output_type": "execute_result"
    }
   ],
   "source": [
    "id(name)"
   ]
  },
  {
   "cell_type": "code",
   "execution_count": 18,
   "id": "b4693375",
   "metadata": {},
   "outputs": [
    {
     "data": {
      "text/plain": [
       "1598514621424"
      ]
     },
     "execution_count": 18,
     "metadata": {},
     "output_type": "execute_result"
    }
   ],
   "source": [
    "id(age)"
   ]
  },
  {
   "cell_type": "code",
   "execution_count": 19,
   "id": "954d2809",
   "metadata": {},
   "outputs": [
    {
     "data": {
      "text/plain": [
       "1598514811184"
      ]
     },
     "execution_count": 19,
     "metadata": {},
     "output_type": "execute_result"
    }
   ],
   "source": [
    "age =63\n",
    "id(age)"
   ]
  },
  {
   "cell_type": "markdown",
   "id": "82672d7b",
   "metadata": {},
   "source": [
    "# Condition"
   ]
  },
  {
   "cell_type": "code",
   "execution_count": 20,
   "id": "95a73c4e",
   "metadata": {},
   "outputs": [
    {
     "name": "stdout",
     "output_type": "stream",
     "text": [
      "False\n"
     ]
    }
   ],
   "source": [
    "if 120 > 200:\n",
    "    print(\"True\")\n",
    "else:\n",
    "    print(\"False\")"
   ]
  },
  {
   "cell_type": "code",
   "execution_count": 22,
   "id": "11e6ec03",
   "metadata": {},
   "outputs": [
    {
     "name": "stdout",
     "output_type": "stream",
     "text": [
      "True\n"
     ]
    }
   ],
   "source": [
    "if 1200 > 200:\n",
    "    print(\"True\")\n",
    "else:\n",
    "    print(\"False\")"
   ]
  },
  {
   "cell_type": "code",
   "execution_count": 23,
   "id": "f837472e",
   "metadata": {},
   "outputs": [
    {
     "name": "stdout",
     "output_type": "stream",
     "text": [
      "You can't activate your account\n"
     ]
    }
   ],
   "source": [
    "age = 0\n",
    "if age > 17:\n",
    "    print(\"You can activate your account\")\n",
    "else:\n",
    "    print(\"You can't activate your account\")"
   ]
  },
  {
   "cell_type": "code",
   "execution_count": 24,
   "id": "22500201",
   "metadata": {},
   "outputs": [
    {
     "name": "stdout",
     "output_type": "stream",
     "text": [
      "You can activate your account\n"
     ]
    }
   ],
   "source": [
    "age = 20\n",
    "if age > 17:\n",
    "    print(\"You can activate your account\")\n",
    "else:\n",
    "    print(\"You can't activate your account\")"
   ]
  },
  {
   "cell_type": "code",
   "execution_count": 25,
   "id": "35fabe28",
   "metadata": {},
   "outputs": [
    {
     "name": "stdout",
     "output_type": "stream",
     "text": [
      "You can active your account\n"
     ]
    }
   ],
   "source": [
    "age = 17\n",
    "gurdian = True\n",
    "if age > 17:\n",
    "    print(\"You can activate your account\")\n",
    "elif gurdian == True:\n",
    "    print(\"You can active your account\")\n",
    "else:\n",
    "    print(\"You can't activate your account\")"
   ]
  },
  {
   "cell_type": "code",
   "execution_count": 26,
   "id": "c3c72489",
   "metadata": {},
   "outputs": [
    {
     "name": "stdout",
     "output_type": "stream",
     "text": [
      "gurdian part\n",
      "You can active your account\n"
     ]
    }
   ],
   "source": [
    "age = 17\n",
    "gurdian = True\n",
    "if age > 17:\n",
    "    print(\"You can activate your account\")\n",
    "elif gurdian == True:\n",
    "    print(\"gurdian part\")\n",
    "    print(\"You can active your account\")\n",
    "else:\n",
    "    print(\"You can't activate your account\")"
   ]
  },
  {
   "cell_type": "markdown",
   "id": "99200114",
   "metadata": {},
   "source": [
    "# arithmatic operators: ( ==,  <=, >=, != , <, > )"
   ]
  },
  {
   "cell_type": "code",
   "execution_count": 27,
   "id": "b2085fc5",
   "metadata": {},
   "outputs": [
    {
     "name": "stdout",
     "output_type": "stream",
     "text": [
      "You can't activate your account\n"
     ]
    }
   ],
   "source": [
    "age = 17\n",
    "gurdian = False\n",
    "if age > 17:\n",
    "    print(\"You can activate your account\")\n",
    "elif gurdian == True:\n",
    "    print(\"gurdian part\")\n",
    "    print(\"You can active your account\")\n",
    "else:\n",
    "    print(\"You can't activate your account\")"
   ]
  },
  {
   "cell_type": "markdown",
   "id": "3e9d73ee",
   "metadata": {},
   "source": [
    "# if else ladder"
   ]
  },
  {
   "cell_type": "code",
   "execution_count": 29,
   "id": "97c8cf00",
   "metadata": {},
   "outputs": [
    {
     "name": "stdout",
     "output_type": "stream",
     "text": [
      "You can active your account\n"
     ]
    }
   ],
   "source": [
    "age = 17\n",
    "gurdian = False\n",
    "friend_name = \"Shakib\"\n",
    "if age > 17:\n",
    "    print(\"You can activate your account\")\n",
    "elif gurdian == True:\n",
    "    print(\"gurdian part\")\n",
    "    print(\"You can active your account\")\n",
    "elif friend_name == \"Shakib\":\n",
    "    print(\"You can active your account\")\n",
    "else:\n",
    "    print(\"You can't activate your account\")"
   ]
  },
  {
   "cell_type": "markdown",
   "id": "45ff1f6b",
   "metadata": {},
   "source": [
    "# nested condition"
   ]
  },
  {
   "cell_type": "code",
   "execution_count": 30,
   "id": "a0de5156",
   "metadata": {},
   "outputs": [
    {
     "name": "stdout",
     "output_type": "stream",
     "text": [
      "You are under 18, you can't vote\n"
     ]
    }
   ],
   "source": [
    "nid = False\n",
    "age = 0\n",
    "if age >= 18:\n",
    "    print(\"You have 18, but do you have nid?\")\n",
    "    if nid == True:\n",
    "        print(\"ok, you can give your vote\")\n",
    "    else:\n",
    "        print(\"Please Show your nid\")\n",
    "else:\n",
    "    print(\"You are under 18, you can't vote\")"
   ]
  },
  {
   "cell_type": "code",
   "execution_count": 31,
   "id": "2be31bcf",
   "metadata": {},
   "outputs": [
    {
     "name": "stdout",
     "output_type": "stream",
     "text": [
      "You have 18, but do you have nid?\n",
      "Please Show your nid\n"
     ]
    }
   ],
   "source": [
    "nid = False\n",
    "age = 20\n",
    "if age >= 18:\n",
    "    print(\"You have 18, but do you have nid?\")\n",
    "    if nid == True:\n",
    "        print(\"ok, you can give your vote\")\n",
    "    else:\n",
    "        print(\"Please Show your nid\")\n",
    "else:\n",
    "    print(\"You are under 18, you can't vote\")"
   ]
  },
  {
   "cell_type": "code",
   "execution_count": 32,
   "id": "c82ba5f0",
   "metadata": {},
   "outputs": [
    {
     "name": "stdout",
     "output_type": "stream",
     "text": [
      "You have 18, but do you have nid?\n",
      "ok, you can give your vote\n"
     ]
    }
   ],
   "source": [
    "nid = True\n",
    "age = 20\n",
    "if age >= 18:\n",
    "    print(\"You have 18, but do you have nid?\")\n",
    "    if nid == True:\n",
    "        print(\"ok, you can give your vote\")\n",
    "    else:\n",
    "        print(\"Please Show your nid\")\n",
    "else:\n",
    "    print(\"You are under 18, you can't vote\")"
   ]
  },
  {
   "cell_type": "code",
   "execution_count": 33,
   "id": "c3191229",
   "metadata": {},
   "outputs": [
    {
     "name": "stdout",
     "output_type": "stream",
     "text": [
      "Enter your age20\n",
      "You have 18, but do you have nid?\n",
      "Please Show your nid\n"
     ]
    }
   ],
   "source": [
    "nid = False\n",
    "age = int(input(\"Enter your age\"))\n",
    "if age >= 18:\n",
    "    print(\"You have 18, but do you have nid?\")\n",
    "    if nid == True:\n",
    "        print(\"ok, you can give your vote\")\n",
    "    else:\n",
    "        print(\"Please Show your nid\")\n",
    "else:\n",
    "    print(\"You are under 18, you can't vote\")"
   ]
  },
  {
   "cell_type": "code",
   "execution_count": 35,
   "id": "220efef2",
   "metadata": {},
   "outputs": [
    {
     "name": "stdout",
     "output_type": "stream",
     "text": [
      "Enter your age:14\n",
      "You are under 18, you can't vote\n"
     ]
    }
   ],
   "source": [
    "nid = False\n",
    "age = int(input(\"Enter your age:\"))\n",
    "if age >= 18:\n",
    "    print(\"You have 18, but do you have nid?\")\n",
    "    if nid == True:\n",
    "        print(\"ok, you can give your vote\")\n",
    "    else:\n",
    "        print(\"Please Show your nid\")\n",
    "else:\n",
    "    print(\"You are under 18, you can't vote\")"
   ]
  },
  {
   "cell_type": "code",
   "execution_count": 37,
   "id": "d65960b3",
   "metadata": {},
   "outputs": [
    {
     "name": "stdout",
     "output_type": "stream",
     "text": [
      "Enter your age:12\n",
      "You are under 18, you can't vote\n"
     ]
    }
   ],
   "source": [
    "nid = True\n",
    "age = int(input(\"Enter your age:\"))\n",
    "if age >= 18:\n",
    "    print(\"You have 18, but do you have nid?\")\n",
    "    if nid == True:\n",
    "        print(\"ok, you can give your vote\")\n",
    "    else:\n",
    "        print(\"Please Show your nid\")\n",
    "else:\n",
    "    print(\"You are under 18, you can't vote\")"
   ]
  },
  {
   "cell_type": "code",
   "execution_count": 38,
   "id": "4764a142",
   "metadata": {},
   "outputs": [
    {
     "name": "stdout",
     "output_type": "stream",
     "text": [
      "Enter your age:24\n",
      "You have 18, but do you have nid?\n",
      "ok, you can give your vote\n"
     ]
    }
   ],
   "source": [
    "nid = True\n",
    "age = int(input(\"Enter your age:\"))\n",
    "if age >= 18:\n",
    "    print(\"You have 18, but do you have nid?\")\n",
    "    if nid == True:\n",
    "        print(\"ok, you can give your vote\")\n",
    "    else:\n",
    "        print(\"Please Show your nid\")\n",
    "else:\n",
    "    print(\"You are under 18, you can't vote\")"
   ]
  },
  {
   "cell_type": "markdown",
   "id": "25119f48",
   "metadata": {},
   "source": [
    "# Loop"
   ]
  },
  {
   "cell_type": "markdown",
   "id": "b06c5d14",
   "metadata": {},
   "source": [
    "# For Loop"
   ]
  },
  {
   "cell_type": "code",
   "execution_count": 40,
   "id": "e9153d42",
   "metadata": {},
   "outputs": [
    {
     "name": "stdout",
     "output_type": "stream",
     "text": [
      "0\n",
      "1\n",
      "2\n",
      "3\n",
      "4\n",
      "5\n",
      "6\n",
      "7\n",
      "8\n",
      "9\n",
      "10\n",
      "11\n",
      "12\n",
      "13\n",
      "14\n",
      "15\n",
      "16\n",
      "17\n",
      "18\n",
      "19\n",
      "20\n",
      "21\n",
      "22\n",
      "23\n",
      "24\n"
     ]
    }
   ],
   "source": [
    "for i in range (25):\n",
    "    print(i)"
   ]
  },
  {
   "cell_type": "code",
   "execution_count": 41,
   "id": "9fc423b1",
   "metadata": {},
   "outputs": [
    {
     "name": "stdout",
     "output_type": "stream",
     "text": [
      "6\n",
      "10\n",
      "14\n",
      "18\n",
      "22\n"
     ]
    }
   ],
   "source": [
    "for i in range (6,25,4):\n",
    "    print(i)"
   ]
  },
  {
   "cell_type": "markdown",
   "id": "b300cbbe",
   "metadata": {},
   "source": [
    "# While loop"
   ]
  },
  {
   "cell_type": "code",
   "execution_count": 47,
   "id": "aea8c0b7",
   "metadata": {},
   "outputs": [],
   "source": [
    " ###i = 0\n",
    " ###n = 15\n",
    "###while True:\n",
    "   ### print(\"Welcome\")"
   ]
  },
  {
   "cell_type": "code",
   "execution_count": null,
   "id": "58a6fdd2",
   "metadata": {},
   "outputs": [],
   "source": [
    "#i = 0\n",
    "#n = 15\n",
    "#while i<n:\n",
    "    #print(i)"
   ]
  },
  {
   "cell_type": "code",
   "execution_count": 45,
   "id": "0524e14d",
   "metadata": {},
   "outputs": [
    {
     "name": "stdout",
     "output_type": "stream",
     "text": [
      "0\n",
      "1\n",
      "2\n",
      "3\n",
      "4\n",
      "5\n",
      "6\n",
      "7\n",
      "8\n",
      "9\n",
      "10\n",
      "11\n",
      "12\n",
      "13\n",
      "14\n"
     ]
    }
   ],
   "source": [
    "i = 0\n",
    "n = 15\n",
    "while i<n:\n",
    "    print(i)\n",
    "    i = i+1"
   ]
  },
  {
   "cell_type": "code",
   "execution_count": 46,
   "id": "9f52c484",
   "metadata": {},
   "outputs": [
    {
     "name": "stdout",
     "output_type": "stream",
     "text": [
      "0\n",
      "1\n",
      "2\n",
      "3\n",
      "4\n",
      "5\n",
      "6\n",
      "7\n",
      "8\n",
      "9\n",
      "10\n",
      "11\n",
      "12\n",
      "13\n",
      "14\n",
      "15\n"
     ]
    }
   ],
   "source": [
    "i = 0\n",
    "n = 15\n",
    "while i<=n:\n",
    "    print(i)\n",
    "    i = i+1"
   ]
  }
 ],
 "metadata": {
  "kernelspec": {
   "display_name": "Python 3 (ipykernel)",
   "language": "python",
   "name": "python3"
  },
  "language_info": {
   "codemirror_mode": {
    "name": "ipython",
    "version": 3
   },
   "file_extension": ".py",
   "mimetype": "text/x-python",
   "name": "python",
   "nbconvert_exporter": "python",
   "pygments_lexer": "ipython3",
   "version": "3.9.7"
  }
 },
 "nbformat": 4,
 "nbformat_minor": 5
}
