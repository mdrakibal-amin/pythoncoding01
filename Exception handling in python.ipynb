{
 "cells": [
  {
   "cell_type": "markdown",
   "id": "51ea06d1",
   "metadata": {},
   "source": [
    "# Exception handling"
   ]
  },
  {
   "cell_type": "code",
   "execution_count": 2,
   "id": "e84d6787",
   "metadata": {},
   "outputs": [
    {
     "ename": "ZeroDivisionError",
     "evalue": "division by zero",
     "output_type": "error",
     "traceback": [
      "\u001b[1;31m---------------------------------------------------------------------------\u001b[0m",
      "\u001b[1;31mZeroDivisionError\u001b[0m                         Traceback (most recent call last)",
      "\u001b[1;32m~\\AppData\\Local\\Temp/ipykernel_12904/4017675984.py\u001b[0m in \u001b[0;36m<module>\u001b[1;34m\u001b[0m\n\u001b[1;32m----> 1\u001b[1;33m \u001b[1;36m40\u001b[0m\u001b[1;33m/\u001b[0m\u001b[1;36m0\u001b[0m\u001b[1;33m\u001b[0m\u001b[1;33m\u001b[0m\u001b[0m\n\u001b[0m",
      "\u001b[1;31mZeroDivisionError\u001b[0m: division by zero"
     ]
    }
   ],
   "source": [
    "40/0"
   ]
  },
  {
   "cell_type": "code",
   "execution_count": 29,
   "id": "4883d1b5",
   "metadata": {},
   "outputs": [
    {
     "data": {
      "text/plain": [
       "0.4"
      ]
     },
     "execution_count": 29,
     "metadata": {},
     "output_type": "execute_result"
    }
   ],
   "source": [
    "2/5"
   ]
  },
  {
   "cell_type": "code",
   "execution_count": null,
   "id": "49d85e47",
   "metadata": {},
   "outputs": [],
   "source": [
    "num = int(input())\n",
    "50/num"
   ]
  },
  {
   "cell_type": "code",
   "execution_count": null,
   "id": "2077d89f",
   "metadata": {},
   "outputs": [],
   "source": [
    "num = int(input())\n",
    "50/num"
   ]
  },
  {
   "cell_type": "code",
   "execution_count": null,
   "id": "a8747fdd",
   "metadata": {},
   "outputs": [],
   "source": [
    "try:\n",
    "    print(207/0)\n",
    "except Exception as e:\n",
    "    print(e)"
   ]
  },
  {
   "cell_type": "code",
   "execution_count": null,
   "id": "ab3c6efe",
   "metadata": {},
   "outputs": [],
   "source": [
    "try:\n",
    "    print(207/0)\n",
    "except zeroDivisionError as e:\n",
    "    print(e)"
   ]
  },
  {
   "cell_type": "code",
   "execution_count": null,
   "id": "8e662b57",
   "metadata": {},
   "outputs": [],
   "source": [
    "try:\n",
    "    print(207/0)\n",
    "except NameError as e:\n",
    "    print(e)"
   ]
  },
  {
   "cell_type": "code",
   "execution_count": null,
   "id": "79988071",
   "metadata": {},
   "outputs": [],
   "source": [
    "num = int(input())\n",
    "50/num"
   ]
  },
  {
   "cell_type": "code",
   "execution_count": null,
   "id": "9ffa755d",
   "metadata": {},
   "outputs": [],
   "source": [
    "num = int(input())\n",
    "50/num"
   ]
  },
  {
   "cell_type": "code",
   "execution_count": null,
   "id": "5ebe4ba6",
   "metadata": {},
   "outputs": [],
   "source": [
    "try:\n",
    "    num = int(input())\n",
    "    50/num\n",
    "except ValueError as e:\n",
    "    print(e)\n",
    "except ZeroDivisionError as e:\n",
    "    print(e)"
   ]
  },
  {
   "cell_type": "code",
   "execution_count": null,
   "id": "48783ae2",
   "metadata": {},
   "outputs": [],
   "source": [
    "try:\n",
    "    num = int(input())\n",
    "    50/num\n",
    "except ValueError as e:\n",
    "    print(e)\n",
    "except ZeroDivisionError as e:\n",
    "    print(e)"
   ]
  },
  {
   "cell_type": "code",
   "execution_count": null,
   "id": "9f88ed62",
   "metadata": {},
   "outputs": [],
   "source": [
    "try:\n",
    "    num = int(input())\n",
    "    50/num\n",
    "except ValueError as e:\n",
    "    print(e)\n",
    "except ZeroDivisionError as e:\n",
    "    print(e)"
   ]
  },
  {
   "cell_type": "code",
   "execution_count": null,
   "id": "81526b1d",
   "metadata": {},
   "outputs": [],
   "source": [
    "try:\n",
    "    num = int(input())\n",
    "    return 50/num\n",
    "except ValueError as e:\n",
    "    print(e)\n",
    "except ZeroDivisionError as e:\n",
    "    print(e)\n",
    "except Exception as e:\n",
    "    print(e)"
   ]
  },
  {
   "cell_type": "code",
   "execution_count": null,
   "id": "c9547599",
   "metadata": {},
   "outputs": [],
   "source": [
    "try:\n",
    "    num = int(input())\n",
    "    return 50/num\n",
    "except ValueError as e:\n",
    "    print(e)\n",
    "except ZeroDivisionError as e:\n",
    "    print(e)\n",
    "except SyntaxError as e:\n",
    "    print(e)\n",
    "except Exception as e:\n",
    "    print(e)"
   ]
  },
  {
   "cell_type": "code",
   "execution_count": null,
   "id": "239e0291",
   "metadata": {},
   "outputs": [],
   "source": [
    "try:\n",
    "    num = int(input())\n",
    "    print(50/num)\n",
    "except ValueError as e:\n",
    "    print(e)\n",
    "except ZeroDivisionError as e:\n",
    "    print(e)\n",
    "except SyntaxError as e:\n",
    "    print(e)\n",
    "except KeyError as e:\n",
    "    print(e)\n",
    "except Exception as e:\n",
    "    print(e)"
   ]
  },
  {
   "cell_type": "code",
   "execution_count": null,
   "id": "44df491d",
   "metadata": {},
   "outputs": [],
   "source": [
    "try:\n",
    "    num = int(input())\n",
    "    print(207/num)\n",
    "except Exception as e:\n",
    "    print(e, \"Please change your values\")"
   ]
  },
  {
   "cell_type": "code",
   "execution_count": null,
   "id": "c6bc72b9",
   "metadata": {},
   "outputs": [],
   "source": [
    "try:\n",
    "    num = int(input())\n",
    "    print(207/num)\n",
    "except Exception as e:\n",
    "    print(e, \"Please change your values\")"
   ]
  },
  {
   "cell_type": "code",
   "execution_count": null,
   "id": "38918c34",
   "metadata": {},
   "outputs": [],
   "source": [
    "try:\n",
    "    num = int(input())\n",
    "    print(207/num)\n",
    "except Exception as e:\n",
    "    print(e, \"Please change your values\")"
   ]
  },
  {
   "cell_type": "code",
   "execution_count": 3,
   "id": "6b01d1f1",
   "metadata": {},
   "outputs": [
    {
     "name": "stdout",
     "output_type": "stream",
     "text": [
      "division by zero Please ignore 0 \n"
     ]
    }
   ],
   "source": [
    "try:\n",
    "    print(207/0)\n",
    "except ZeroDivisionError as e:\n",
    "    print(e,\"Please ignore 0 \")"
   ]
  },
  {
   "cell_type": "code",
   "execution_count": 4,
   "id": "2d22ed4f",
   "metadata": {},
   "outputs": [
    {
     "name": "stdout",
     "output_type": "stream",
     "text": [
      "division by zero\n",
      "finally we did it\n"
     ]
    }
   ],
   "source": [
    "try:\n",
    "    print(207/0)\n",
    "except Exception as e:\n",
    "    print(e)\n",
    "finally:\n",
    "    print(\"finally we did it\")"
   ]
  },
  {
   "cell_type": "code",
   "execution_count": 5,
   "id": "0d6703b0",
   "metadata": {},
   "outputs": [
    {
     "name": "stdout",
     "output_type": "stream",
     "text": [
      "10.35\n",
      "finally we did it\n"
     ]
    }
   ],
   "source": [
    "try:\n",
    "    print(207/20)\n",
    "except Exception as e:\n",
    "    print(e)\n",
    "finally:\n",
    "    print(\"finally we did it\")"
   ]
  },
  {
   "cell_type": "code",
   "execution_count": 8,
   "id": "a1923e59",
   "metadata": {},
   "outputs": [],
   "source": [
    "def divide_number(num):\n",
    "    try:\n",
    "        return 50/num\n",
    "    except ValueError as e:\n",
    "        print(e)\n",
    "    except ZeroDivisionError as e:\n",
    "        print(e)\n",
    "    except SyntaxError as e:\n",
    "        print(e)\n",
    "    except KeyError as e:\n",
    "        print(e)\n",
    "    except Exception as e:\n",
    "        print(e)\n",
    "    "
   ]
  },
  {
   "cell_type": "code",
   "execution_count": 9,
   "id": "beb4c225",
   "metadata": {},
   "outputs": [
    {
     "name": "stdout",
     "output_type": "stream",
     "text": [
      "division by zero\n"
     ]
    }
   ],
   "source": [
    "divide_number(0)"
   ]
  },
  {
   "cell_type": "code",
   "execution_count": 12,
   "id": "a46d696e",
   "metadata": {},
   "outputs": [],
   "source": [
    "def divide_number(num):\n",
    "    try:\n",
    "        res = 50/num\n",
    "        res = res+10\n",
    "        return res\n",
    "    except ValueError as e:\n",
    "        print(e)\n",
    "    except ZeroDivisionError as e:\n",
    "        print(e)\n",
    "    except SyntaxError as e:\n",
    "        print(e)\n",
    "    except KeyError as e:\n",
    "        print(e)\n",
    "    except Exception as e:\n",
    "        print(e)"
   ]
  },
  {
   "cell_type": "code",
   "execution_count": 13,
   "id": "20b0f2a8",
   "metadata": {},
   "outputs": [
    {
     "name": "stdout",
     "output_type": "stream",
     "text": [
      "division by zero\n"
     ]
    }
   ],
   "source": [
    "divide_number(0)"
   ]
  },
  {
   "cell_type": "code",
   "execution_count": 14,
   "id": "21cd3804",
   "metadata": {},
   "outputs": [],
   "source": [
    "def divide_number(num):\n",
    "    try:\n",
    "        return (50/num)+10\n",
    "    except ValueError as e:\n",
    "        print(e)\n",
    "    except ZeroDivisionError as e:\n",
    "        print(e)\n",
    "    except SyntaxError as e:\n",
    "        print(e)\n",
    "    except KeyError as e:\n",
    "        print(e)\n",
    "    except Exception as e:\n",
    "        print(e)"
   ]
  },
  {
   "cell_type": "code",
   "execution_count": 15,
   "id": "4419f11a",
   "metadata": {},
   "outputs": [
    {
     "name": "stdout",
     "output_type": "stream",
     "text": [
      "division by zero\n"
     ]
    }
   ],
   "source": [
    "divide_number(0)"
   ]
  },
  {
   "cell_type": "code",
   "execution_count": 16,
   "id": "a856836f",
   "metadata": {},
   "outputs": [
    {
     "name": "stdout",
     "output_type": "stream",
     "text": [
      "unsupported operand type(s) for /: 'int' and 'str'\n"
     ]
    }
   ],
   "source": [
    "divide_number(\"Tea\")"
   ]
  },
  {
   "cell_type": "code",
   "execution_count": 17,
   "id": "056b0b00",
   "metadata": {},
   "outputs": [
    {
     "data": {
      "text/plain": [
       "10.888294181856097"
      ]
     },
     "execution_count": 17,
     "metadata": {},
     "output_type": "execute_result"
    }
   ],
   "source": [
    "divide_number(56.287659)"
   ]
  },
  {
   "cell_type": "code",
   "execution_count": 18,
   "id": "f8ec65ff",
   "metadata": {},
   "outputs": [
    {
     "data": {
      "text/plain": [
       "60.0"
      ]
     },
     "execution_count": 18,
     "metadata": {},
     "output_type": "execute_result"
    }
   ],
   "source": [
    "divide_number(True)"
   ]
  },
  {
   "cell_type": "code",
   "execution_count": 19,
   "id": "9523c8af",
   "metadata": {},
   "outputs": [
    {
     "name": "stdout",
     "output_type": "stream",
     "text": [
      "division by zero\n"
     ]
    }
   ],
   "source": [
    "divide_number(False)"
   ]
  },
  {
   "cell_type": "code",
   "execution_count": 20,
   "id": "3022c287",
   "metadata": {},
   "outputs": [
    {
     "data": {
      "text/plain": [
       "60.0"
      ]
     },
     "execution_count": 20,
     "metadata": {},
     "output_type": "execute_result"
    }
   ],
   "source": [
    "divide_number(1)"
   ]
  },
  {
   "cell_type": "markdown",
   "id": "ea8cec62",
   "metadata": {},
   "source": [
    "# Custom Exception :In below here"
   ]
  },
  {
   "cell_type": "code",
   "execution_count": null,
   "id": "b86335f4",
   "metadata": {},
   "outputs": [],
   "source": []
  },
  {
   "cell_type": "code",
   "execution_count": 21,
   "id": "232f29c2",
   "metadata": {},
   "outputs": [],
   "source": [
    "class MaxNumberException(Exception):\n",
    "    pass\n",
    "class MinNumberException(Exception):\n",
    "    pass"
   ]
  },
  {
   "cell_type": "code",
   "execution_count": 22,
   "id": "20b4c184",
   "metadata": {},
   "outputs": [],
   "source": [
    "def divide_number(num):\n",
    "    try:\n",
    "        if num > 207:\n",
    "            raise MaxNumberException\n",
    "        if num < 35:\n",
    "            raise MinNumberException\n",
    "        return (220/num)\n",
    "    except MaxNumberException as e:\n",
    "        print(\"Max Number exceeded\")\n",
    "    except MinNumberException as e:\n",
    "        print(\"Min Number exceeded\")\n",
    "    except Exception as e:\n",
    "        print(e)"
   ]
  },
  {
   "cell_type": "code",
   "execution_count": 23,
   "id": "93a78882",
   "metadata": {},
   "outputs": [
    {
     "name": "stdout",
     "output_type": "stream",
     "text": [
      "Max Number exceeded\n"
     ]
    }
   ],
   "source": [
    "divide_number(268)"
   ]
  },
  {
   "cell_type": "code",
   "execution_count": 24,
   "id": "24ae91e6",
   "metadata": {},
   "outputs": [
    {
     "name": "stdout",
     "output_type": "stream",
     "text": [
      "Min Number exceeded\n"
     ]
    }
   ],
   "source": [
    "divide_number(25)"
   ]
  },
  {
   "cell_type": "code",
   "execution_count": 25,
   "id": "2b5bf283",
   "metadata": {},
   "outputs": [
    {
     "name": "stdout",
     "output_type": "stream",
     "text": [
      "Min Number exceeded\n"
     ]
    }
   ],
   "source": [
    "divide_number(0)"
   ]
  },
  {
   "cell_type": "code",
   "execution_count": 26,
   "id": "33b5f045",
   "metadata": {},
   "outputs": [
    {
     "data": {
      "text/plain": [
       "3.283582089552239"
      ]
     },
     "execution_count": 26,
     "metadata": {},
     "output_type": "execute_result"
    }
   ],
   "source": [
    "divide_number(67)"
   ]
  },
  {
   "cell_type": "code",
   "execution_count": 28,
   "id": "51d50332",
   "metadata": {},
   "outputs": [
    {
     "name": "stdout",
     "output_type": "stream",
     "text": [
      "'>' not supported between instances of 'str' and 'int'\n"
     ]
    }
   ],
   "source": [
    "divide_number(\"sghdf\")"
   ]
  }
 ],
 "metadata": {
  "kernelspec": {
   "display_name": "Python 3 (ipykernel)",
   "language": "python",
   "name": "python3"
  },
  "language_info": {
   "codemirror_mode": {
    "name": "ipython",
    "version": 3
   },
   "file_extension": ".py",
   "mimetype": "text/x-python",
   "name": "python",
   "nbconvert_exporter": "python",
   "pygments_lexer": "ipython3",
   "version": "3.9.7"
  }
 },
 "nbformat": 4,
 "nbformat_minor": 5
}
