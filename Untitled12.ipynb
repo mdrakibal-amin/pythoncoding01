{
  "nbformat": 4,
  "nbformat_minor": 0,
  "metadata": {
    "colab": {
      "name": "Untitled12.ipynb",
      "provenance": [],
      "collapsed_sections": [],
      "authorship_tag": "ABX9TyMi+PID1Ik16YlfVYMDm/EU",
      "include_colab_link": true
    },
    "kernelspec": {
      "name": "python3",
      "display_name": "Python 3"
    },
    "language_info": {
      "name": "python"
    }
  },
  "cells": [
    {
      "cell_type": "markdown",
      "metadata": {
        "id": "view-in-github",
        "colab_type": "text"
      },
      "source": [
        "<a href=\"https://colab.research.google.com/github/mdrakibal-amin/pythoncoding01/blob/main/Untitled12.ipynb\" target=\"_parent\"><img src=\"https://colab.research.google.com/assets/colab-badge.svg\" alt=\"Open In Colab\"/></a>"
      ]
    },
    {
      "cell_type": "code",
      "execution_count": 1,
      "metadata": {
        "id": "MmIuqs_7WaMV"
      },
      "outputs": [],
      "source": [
        "import sqlite3"
      ]
    },
    {
      "cell_type": "code",
      "source": [
        "connection = sqlite3.connect(\"testDB.db\")"
      ],
      "metadata": {
        "id": "W360FYw0ZbWj"
      },
      "execution_count": 2,
      "outputs": []
    },
    {
      "cell_type": "code",
      "source": [
        "print(connection.total_changes)"
      ],
      "metadata": {
        "colab": {
          "base_uri": "https://localhost:8080/"
        },
        "id": "-2yF2QQCZjPx",
        "outputId": "8ac4d415-2809-427f-9ff6-30242920896b"
      },
      "execution_count": 3,
      "outputs": [
        {
          "output_type": "stream",
          "name": "stdout",
          "text": [
            "0\n"
          ]
        }
      ]
    },
    {
      "cell_type": "code",
      "source": [
        "cursor = connection.cursor()"
      ],
      "metadata": {
        "id": "adnQq0NFe24B"
      },
      "execution_count": 5,
      "outputs": []
    },
    {
      "cell_type": "code",
      "source": [
        "sql = \"CREATE TABLE studentinfo(name TEXT, id TEXT,dept TEXT,sem TEXT,email TEXT)\"\n",
        "cursor.execute(sql)"
      ],
      "metadata": {
        "colab": {
          "base_uri": "https://localhost:8080/"
        },
        "id": "B_BWLPHhZqZ6",
        "outputId": "73de8cce-01d2-49c9-b9e5-64e3334773f9"
      },
      "execution_count": 6,
      "outputs": [
        {
          "output_type": "execute_result",
          "data": {
            "text/plain": [
              "<sqlite3.Cursor at 0x7f26d8356dc0>"
            ]
          },
          "metadata": {},
          "execution_count": 6
        }
      ]
    },
    {
      "cell_type": "code",
      "source": [
        "print(connection.total_changes)"
      ],
      "metadata": {
        "colab": {
          "base_uri": "https://localhost:8080/"
        },
        "id": "KNr-qxNDfn9K",
        "outputId": "2b6dd5e9-bcec-4f0b-d681-ddcaa5a22cff"
      },
      "execution_count": 7,
      "outputs": [
        {
          "output_type": "stream",
          "name": "stdout",
          "text": [
            "0\n"
          ]
        }
      ]
    },
    {
      "cell_type": "code",
      "source": [
        "insert= \"INSERT INTO studentinfo VALUES('Rashed','12345','CSE','9th','rashed16-19345@diu.edu.bd')\"\n",
        "cursor.execute(insert)"
      ],
      "metadata": {
        "colab": {
          "base_uri": "https://localhost:8080/"
        },
        "id": "C-ntAfE2hSSI",
        "outputId": "1f86bbdc-fb26-4216-df2e-82f3544c1ba8"
      },
      "execution_count": 8,
      "outputs": [
        {
          "output_type": "execute_result",
          "data": {
            "text/plain": [
              "<sqlite3.Cursor at 0x7f26d8356dc0>"
            ]
          },
          "metadata": {},
          "execution_count": 8
        }
      ]
    },
    {
      "cell_type": "code",
      "source": [
        "data = \"SELECT * FROM studentinfo\"\n",
        "rows = cursor.execute(data)\n",
        "rows"
      ],
      "metadata": {
        "colab": {
          "base_uri": "https://localhost:8080/"
        },
        "id": "Di_SWMcLhVyL",
        "outputId": "6d9460a4-9575-434c-8e1b-adb91eb3d84c"
      },
      "execution_count": 9,
      "outputs": [
        {
          "output_type": "execute_result",
          "data": {
            "text/plain": [
              "<sqlite3.Cursor at 0x7f26d8356dc0>"
            ]
          },
          "metadata": {},
          "execution_count": 9
        }
      ]
    },
    {
      "cell_type": "code",
      "source": [
        "print(rows)"
      ],
      "metadata": {
        "colab": {
          "base_uri": "https://localhost:8080/"
        },
        "id": "od86XnSXhV7i",
        "outputId": "12e16b23-9514-406c-c922-e9efdfdb9b02"
      },
      "execution_count": 10,
      "outputs": [
        {
          "output_type": "stream",
          "name": "stdout",
          "text": [
            "<sqlite3.Cursor object at 0x7f26d8356dc0>\n"
          ]
        }
      ]
    },
    {
      "cell_type": "code",
      "source": [
        "data = \"SELECT * FROM studentinfo\"\n",
        "rows = cursor.execute(data).fetchall()\n",
        "rows"
      ],
      "metadata": {
        "colab": {
          "base_uri": "https://localhost:8080/"
        },
        "id": "eGzdBikvhWDD",
        "outputId": "55c2de43-19ca-4262-b1ef-1e3ea1ba077f"
      },
      "execution_count": 11,
      "outputs": [
        {
          "output_type": "execute_result",
          "data": {
            "text/plain": [
              "[('Rashed', '12345', 'CSE', '9th', 'rashed16-19345@diu.edu.bd')]"
            ]
          },
          "metadata": {},
          "execution_count": 11
        }
      ]
    },
    {
      "cell_type": "code",
      "source": [
        "class SqliteDBOperation:\n",
        "    def __init__(self):\n",
        "        pass\n",
        "    def __db_conn(self,db_name):\n",
        "        try:\n",
        "            connection = sqlite3.connect(db_name)\n",
        "            return connection\n",
        "        except Exception as e:\n",
        "            print(e)\n",
        "    def create(self,table_name):\n",
        "        try:\n",
        "            db = self.__db_conn(\"employee\")\n",
        "            cursor = connection.cursor()\n",
        "            sql = \"CREATE TABLE {}(name TEXT,dept TEXT, id TEXT,email TEXT,salary TEXT)\".format(table_name)\n",
        "            cursor.execute(sql)\n",
        "            print(table_name + \"Table created Successfully\")\n",
        "        except Exception as e:\n",
        "            print(e)\n",
        "            \n",
        "    def insert(self,table_name,name,dept,id,email,salary):\n",
        "        try:\n",
        "            db = self.__db_conn(\"employee\")\n",
        "            cursor = connection.cursor()\n",
        "#             sql = \"INSERT INTO  VALUES('\" +table_name+ \"','\" +name+ \"', '\" +dept+ \"','\" +id+ \"', '\" +email+ \"','\" +salary+ \"')\"\n",
        "            sql = \" INSERT INTO emp VALUES ('Nahid',  'CSE',   '145474',   'nahid2456.com',   '30000')\"\n",
        "#             values=  (table_name,  name,  dept,  id,  email,  salary)\n",
        "            for i in db_obj.read('emp'):\n",
        "                if i[0] == name and i[1] == dept and i[2] == salary:\n",
        "                    raise Exception\n",
        "\n",
        "            cursor.execute(sql)\n",
        "            print( \"Data insert Successfully\")\n",
        "        except Exception as e:\n",
        "            print(e)\n",
        "            \n",
        "    def read(self,table_name):\n",
        "        try:\n",
        "            db = self.__db_conn(\"employee\")\n",
        "            cursor = connection.cursor()\n",
        "            sql = \"SELECT * FROM {} \".format(table_name)\n",
        "            res = cursor.execute(sql).fetchall()\n",
        " #            for i in res:\n",
        " #                print( res)\n",
        "            return(res)\n",
        "        except Exception as e:\n",
        "            print(e)\n",
        "            \n",
        "    def delete(self,table_name,name,dept):\n",
        "        try:\n",
        "            db = self.__db_conn(\"employee\")\n",
        "            cursor = connection.cursor()\n",
        "            sql = \" DELETE  FROM  \"+table_name+\" WHERE name= '\"+name+\"' & dept= '\"+dept+\"'\" \n",
        "            cursor.execute(sql)\n",
        " #            for i in res:\n",
        " #                print( res)\n",
        "            print(name + \"deleted successfully \")\n",
        "        except Exception as e:\n",
        "            print(e)\n",
        "        "
      ],
      "metadata": {
        "id": "xzQqkqMxhWHi"
      },
      "execution_count": 146,
      "outputs": []
    },
    {
      "cell_type": "code",
      "source": [
        "db_obj = SqliteDBOperation()"
      ],
      "metadata": {
        "id": "V2ZAp3dGhWQw"
      },
      "execution_count": 147,
      "outputs": []
    },
    {
      "cell_type": "code",
      "source": [
        "db_obj.create('emp')"
      ],
      "metadata": {
        "colab": {
          "base_uri": "https://localhost:8080/"
        },
        "id": "CJhSqvgLhWcR",
        "outputId": "968254a7-4710-4281-e3ed-d3d0bb7c96a2"
      },
      "execution_count": 14,
      "outputs": [
        {
          "output_type": "stream",
          "name": "stdout",
          "text": [
            "empTable created Successfully\n"
          ]
        }
      ]
    },
    {
      "cell_type": "code",
      "source": [
        "db_obj.insert('emp', 'Milon', 'CSE', '12345', 'milon123.com', '12000')"
      ],
      "metadata": {
        "colab": {
          "base_uri": "https://localhost:8080/"
        },
        "id": "ZckqEj8biDKc",
        "outputId": "71735482-5373-4ffb-fb51-3fef1d86e5fd"
      },
      "execution_count": 95,
      "outputs": [
        {
          "output_type": "stream",
          "name": "stdout",
          "text": [
            "Data insert Successfully\n"
          ]
        }
      ]
    },
    {
      "cell_type": "code",
      "source": [
        "db_obj.insert( 'emp', 'Raju' , 'CIVIL',   '183121987',   'raju121987.com',   '25000.00' )"
      ],
      "metadata": {
        "colab": {
          "base_uri": "https://localhost:8080/"
        },
        "id": "spfd3gbDiDOn",
        "outputId": "99e1ee4b-0d30-49f5-a1c1-8789337d34f0"
      },
      "execution_count": 104,
      "outputs": [
        {
          "output_type": "stream",
          "name": "stdout",
          "text": [
            "Data insert Successfully\n"
          ]
        }
      ]
    },
    {
      "cell_type": "code",
      "source": [
        "db_obj.insert('emp', 'Shakib', 'CSE',  '123456',  'shak234567.com',  '40000')"
      ],
      "metadata": {
        "colab": {
          "base_uri": "https://localhost:8080/"
        },
        "id": "AhW2tpU9iDSc",
        "outputId": "a8c4b7d4-c1bb-4b03-9212-8eaf770f67fe"
      },
      "execution_count": 97,
      "outputs": [
        {
          "output_type": "stream",
          "name": "stdout",
          "text": [
            "Data insert Successfully\n"
          ]
        }
      ]
    },
    {
      "cell_type": "code",
      "source": [
        "db_obj.insert('emp', 'Rahat', 'English', '35382', 'raha2345.com',  '30000')"
      ],
      "metadata": {
        "colab": {
          "base_uri": "https://localhost:8080/"
        },
        "id": "JszbeG89nJy1",
        "outputId": "cbaf738c-aee6-4a6b-cdfb-0cfdf5311a1d"
      },
      "execution_count": 138,
      "outputs": [
        {
          "output_type": "stream",
          "name": "stdout",
          "text": [
            "Data insert Successfully\n"
          ]
        }
      ]
    },
    {
      "cell_type": "code",
      "source": [
        "db_obj.read('emp')"
      ],
      "metadata": {
        "colab": {
          "base_uri": "https://localhost:8080/"
        },
        "id": "q2AknCqJiDch",
        "outputId": "4910d7a7-3d99-49ea-f125-9890c8cf2eda"
      },
      "execution_count": 105,
      "outputs": [
        {
          "output_type": "execute_result",
          "data": {
            "text/plain": [
              "[('Rahat', 'EEE', '1818515671', 'abcd3.com', '25000'),\n",
              " ('Rahat', 'EEE', '1818515671', 'abcd3.com', '25000'),\n",
              " ('Rahat', 'EEE', '1818515671', 'abcd3.com', '25000'),\n",
              " ('Rahat', 'EEE', '1818515671', 'abcd3.com', '25000'),\n",
              " ('Rahat', 'EEE', '1818515671', 'abcd3.com', '25000'),\n",
              " ('Rahat', 'EEE', '1818515671', 'abcd3.com', '25000'),\n",
              " ('Nahid', 'English', '145474', 'abcd3.com', '30000'),\n",
              " ('Nahid', 'English', '145474', 'abcd3.com', '30000'),\n",
              " ('Nahid', 'English', '145474', 'abcd3.com', '30000'),\n",
              " ('Nahid', 'CSE', '145474', 'nahid2456.com', '30000'),\n",
              " ('Nahid', 'CSE', '145474', 'nahid2456.com', '30000'),\n",
              " ('Nahid', 'CSE', '145474', 'nahid2456.com', '30000'),\n",
              " ('Nahid', 'CSE', '145474', 'nahid2456.com', '30000'),\n",
              " ('Nahid', 'CSE', '145474', 'nahid2456.com', '30000'),\n",
              " ('Nahid', 'CSE', '145474', 'nahid2456.com', '30000'),\n",
              " ('Nahid', 'CSE', '145474', 'nahid2456.com', '30000'),\n",
              " ('Nahid', 'CSE', '145474', 'nahid2456.com', '30000'),\n",
              " ('Nahid', 'CSE', '145474', 'nahid2456.com', '30000')]"
            ]
          },
          "metadata": {},
          "execution_count": 105
        }
      ]
    },
    {
      "cell_type": "code",
      "source": [
        "db_obj.read('emp')[6]"
      ],
      "metadata": {
        "colab": {
          "base_uri": "https://localhost:8080/"
        },
        "id": "GySy3ey9nIjj",
        "outputId": "c43f8f29-a769-460a-c31e-936ddd5597e0"
      },
      "execution_count": 68,
      "outputs": [
        {
          "output_type": "execute_result",
          "data": {
            "text/plain": [
              "('Nahid', 'English', '145474', 'abcd3.com', '30000')"
            ]
          },
          "metadata": {},
          "execution_count": 68
        }
      ]
    },
    {
      "cell_type": "code",
      "source": [
        "for i in db_obj.read('emp'):\n",
        "    print(i)"
      ],
      "metadata": {
        "colab": {
          "base_uri": "https://localhost:8080/"
        },
        "id": "zhTM0vkfmSXF",
        "outputId": "b4e197d9-257d-44f7-d77a-2a5cd0a545c0"
      },
      "execution_count": 106,
      "outputs": [
        {
          "output_type": "stream",
          "name": "stdout",
          "text": [
            "('Rahat', 'EEE', '1818515671', 'abcd3.com', '25000')\n",
            "('Rahat', 'EEE', '1818515671', 'abcd3.com', '25000')\n",
            "('Rahat', 'EEE', '1818515671', 'abcd3.com', '25000')\n",
            "('Rahat', 'EEE', '1818515671', 'abcd3.com', '25000')\n",
            "('Rahat', 'EEE', '1818515671', 'abcd3.com', '25000')\n",
            "('Rahat', 'EEE', '1818515671', 'abcd3.com', '25000')\n",
            "('Nahid', 'English', '145474', 'abcd3.com', '30000')\n",
            "('Nahid', 'English', '145474', 'abcd3.com', '30000')\n",
            "('Nahid', 'English', '145474', 'abcd3.com', '30000')\n",
            "('Nahid', 'CSE', '145474', 'nahid2456.com', '30000')\n",
            "('Nahid', 'CSE', '145474', 'nahid2456.com', '30000')\n",
            "('Nahid', 'CSE', '145474', 'nahid2456.com', '30000')\n",
            "('Nahid', 'CSE', '145474', 'nahid2456.com', '30000')\n",
            "('Nahid', 'CSE', '145474', 'nahid2456.com', '30000')\n",
            "('Nahid', 'CSE', '145474', 'nahid2456.com', '30000')\n",
            "('Nahid', 'CSE', '145474', 'nahid2456.com', '30000')\n",
            "('Nahid', 'CSE', '145474', 'nahid2456.com', '30000')\n",
            "('Nahid', 'CSE', '145474', 'nahid2456.com', '30000')\n"
          ]
        }
      ]
    },
    {
      "cell_type": "code",
      "source": [
        "db_obj.delete('emp', 'Nahid', 'English')"
      ],
      "metadata": {
        "colab": {
          "base_uri": "https://localhost:8080/"
        },
        "id": "GvaRxCsImSgx",
        "outputId": "af7275d0-e12b-4fed-bd59-f16f9b6b1217"
      },
      "execution_count": 144,
      "outputs": [
        {
          "output_type": "stream",
          "name": "stdout",
          "text": [
            "Nahiddeleted successfully \n"
          ]
        }
      ]
    },
    {
      "cell_type": "code",
      "source": [
        "for i in db_obj.read('emp'):\n",
        "    print(i)"
      ],
      "metadata": {
        "colab": {
          "base_uri": "https://localhost:8080/"
        },
        "id": "ZkxCXQ3GmS-U",
        "outputId": "cf0d1b9b-9682-4b05-bfa4-c3c8cdc3fbb4"
      },
      "execution_count": 145,
      "outputs": [
        {
          "output_type": "stream",
          "name": "stdout",
          "text": [
            "('Rahat', 'EEE', '1818515671', 'abcd3.com', '25000')\n",
            "('Rahat', 'EEE', '1818515671', 'abcd3.com', '25000')\n",
            "('Rahat', 'EEE', '1818515671', 'abcd3.com', '25000')\n",
            "('Rahat', 'EEE', '1818515671', 'abcd3.com', '25000')\n",
            "('Rahat', 'EEE', '1818515671', 'abcd3.com', '25000')\n",
            "('Rahat', 'EEE', '1818515671', 'abcd3.com', '25000')\n",
            "('Nahid', 'CSE', '145474', 'nahid2456.com', '30000')\n"
          ]
        }
      ]
    },
    {
      "cell_type": "code",
      "source": [
        "for i in db_obj.read('emp'):\n",
        "    print(i[0])"
      ],
      "metadata": {
        "colab": {
          "base_uri": "https://localhost:8080/"
        },
        "id": "jshqQbKDmTIx",
        "outputId": "d45c31f8-9ff3-4a01-da2c-941e7d1e6a22"
      },
      "execution_count": 148,
      "outputs": [
        {
          "output_type": "stream",
          "name": "stdout",
          "text": [
            "Rahat\n",
            "Rahat\n",
            "Rahat\n",
            "Rahat\n",
            "Rahat\n",
            "Rahat\n",
            "Nahid\n"
          ]
        }
      ]
    },
    {
      "cell_type": "code",
      "source": [
        "for i in db_obj.read('emp'):\n",
        "    print(i[2])"
      ],
      "metadata": {
        "colab": {
          "base_uri": "https://localhost:8080/"
        },
        "id": "f7fBr46riDlK",
        "outputId": "8f2f0ad8-1d00-4776-cccc-46f123eab31e"
      },
      "execution_count": 149,
      "outputs": [
        {
          "output_type": "stream",
          "name": "stdout",
          "text": [
            "1818515671\n",
            "1818515671\n",
            "1818515671\n",
            "1818515671\n",
            "1818515671\n",
            "1818515671\n",
            "145474\n"
          ]
        }
      ]
    },
    {
      "cell_type": "code",
      "source": [
        "for i in db_obj.read('emp'):\n",
        "    print(i)"
      ],
      "metadata": {
        "colab": {
          "base_uri": "https://localhost:8080/"
        },
        "id": "fYXMolcsiDo0",
        "outputId": "93053d10-0755-46bb-ad24-db43d72b8e2f"
      },
      "execution_count": 150,
      "outputs": [
        {
          "output_type": "stream",
          "name": "stdout",
          "text": [
            "('Rahat', 'EEE', '1818515671', 'abcd3.com', '25000')\n",
            "('Rahat', 'EEE', '1818515671', 'abcd3.com', '25000')\n",
            "('Rahat', 'EEE', '1818515671', 'abcd3.com', '25000')\n",
            "('Rahat', 'EEE', '1818515671', 'abcd3.com', '25000')\n",
            "('Rahat', 'EEE', '1818515671', 'abcd3.com', '25000')\n",
            "('Rahat', 'EEE', '1818515671', 'abcd3.com', '25000')\n",
            "('Nahid', 'CSE', '145474', 'nahid2456.com', '30000')\n"
          ]
        }
      ]
    }
  ]
}