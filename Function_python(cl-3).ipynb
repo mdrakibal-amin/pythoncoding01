{
 "cells": [
  {
   "cell_type": "markdown",
   "id": "a1d7a77f",
   "metadata": {},
   "source": [
    "# Function in python->(1)"
   ]
  },
  {
   "cell_type": "code",
   "execution_count": 2,
   "id": "afb7d549",
   "metadata": {},
   "outputs": [
    {
     "name": "stdout",
     "output_type": "stream",
     "text": [
      "5\n",
      "7\n",
      "9\n",
      "12\n",
      "21\n",
      "34\n",
      "45\n",
      "47\n",
      "56\n",
      "58\n",
      "67\n"
     ]
    }
   ],
   "source": [
    "l = [5,7,9,12,21,34,45,47,56,58,67]\n",
    "for i in l:\n",
    "    print(i)"
   ]
  },
  {
   "cell_type": "code",
   "execution_count": 20,
   "id": "206d7687",
   "metadata": {},
   "outputs": [
    {
     "name": "stdout",
     "output_type": "stream",
     "text": [
      "Found\n"
     ]
    }
   ],
   "source": [
    "l = [5,7,9,12,21,34,45,47,56,58,67]\n",
    "\n",
    "for i in l:\n",
    "    if i == 45:\n",
    "        print(\"Found\")\n",
    "        break\n",
    "else:\n",
    "     print(\"not fond\")"
   ]
  },
  {
   "cell_type": "code",
   "execution_count": 21,
   "id": "739884df",
   "metadata": {},
   "outputs": [
    {
     "name": "stdout",
     "output_type": "stream",
     "text": [
      "not fond\n"
     ]
    }
   ],
   "source": [
    "l = [5,7,9,12,21,34,45,47,56,58,67]\n",
    "\n",
    "for i in l:\n",
    "    if i == 80:\n",
    "        print(\"Found\")\n",
    "        break\n",
    "else:\n",
    "     print(\"not fond\")"
   ]
  },
  {
   "cell_type": "code",
   "execution_count": 26,
   "id": "9cfc0f2a",
   "metadata": {},
   "outputs": [
    {
     "name": "stdout",
     "output_type": "stream",
     "text": [
      "21Found\n"
     ]
    }
   ],
   "source": [
    "l = [5,7,9,12,21,34,45,47,56,58,67]\n",
    "n = 21\n",
    "for i in l:\n",
    "    if i == 45:\n",
    "        print(\"{}Found\".format(n))\n",
    "        break\n",
    "else:\n",
    "     print(\"not fond\")"
   ]
  },
  {
   "cell_type": "code",
   "execution_count": 29,
   "id": "d55a3b6d",
   "metadata": {},
   "outputs": [
    {
     "name": "stdout",
     "output_type": "stream",
     "text": [
      "not fond\n"
     ]
    }
   ],
   "source": [
    "l = [5,7,9,12,21,34,45,47,56,58,67]\n",
    "n = 21\n",
    "for i in l:\n",
    "    if i == 65:\n",
    "        print(\"{}Found\".format(n))\n",
    "        break\n",
    "else:\n",
    "     print(\"not fond\")"
   ]
  },
  {
   "cell_type": "code",
   "execution_count": 35,
   "id": "ac154b13",
   "metadata": {},
   "outputs": [],
   "source": [
    "def number_search():\n",
    "    l = [5,7,9,12,21,34,45,47,56,58,67]\n",
    "    n = 21\n",
    "    for i in l:\n",
    "        if i == n:\n",
    "            print(\"{}Found\".format(n))\n",
    "            break\n",
    "    else:\n",
    "     print(\"not fond\")\n",
    "    "
   ]
  },
  {
   "cell_type": "code",
   "execution_count": 36,
   "id": "34d7456c",
   "metadata": {},
   "outputs": [
    {
     "name": "stdout",
     "output_type": "stream",
     "text": [
      "21Found\n"
     ]
    }
   ],
   "source": [
    "number_search()"
   ]
  },
  {
   "cell_type": "code",
   "execution_count": 37,
   "id": "d9353558",
   "metadata": {},
   "outputs": [],
   "source": [
    "def number_search(n):\n",
    "    l = [5,7,9,12,21,34,45,47,56,58,67]\n",
    "   \n",
    "    for i in l:\n",
    "        if i == n:\n",
    "            print(\"{}Found\".format(n))\n",
    "            break\n",
    "    else:\n",
    "     print(\"not fond\")"
   ]
  },
  {
   "cell_type": "code",
   "execution_count": 40,
   "id": "5e6a58ec",
   "metadata": {},
   "outputs": [
    {
     "name": "stdout",
     "output_type": "stream",
     "text": [
      "56Found\n"
     ]
    }
   ],
   "source": [
    "number_search(56)"
   ]
  },
  {
   "cell_type": "code",
   "execution_count": 39,
   "id": "54ff62ea",
   "metadata": {},
   "outputs": [],
   "source": [
    "def number_search(n):\n",
    "    l = [5,7,9,12,21,34,45,47,56,58,67]\n",
    "   \n",
    "    for i in l:\n",
    "        if i == n:\n",
    "            print(\"{}Found\".format(n))\n",
    "            break\n",
    "    else:\n",
    "     print(\"not fond\")"
   ]
  },
  {
   "cell_type": "code",
   "execution_count": 41,
   "id": "9e8fe3f1",
   "metadata": {},
   "outputs": [
    {
     "name": "stdout",
     "output_type": "stream",
     "text": [
      "not fond\n"
     ]
    }
   ],
   "source": [
    "number_search(44)"
   ]
  },
  {
   "cell_type": "code",
   "execution_count": 45,
   "id": "e513e03c",
   "metadata": {},
   "outputs": [],
   "source": [
    "def number_search(n):\n",
    "    l = [5,7,9,12,21,34,45,47,56,58,67]\n",
    "   \n",
    "    for i in l:\n",
    "        if i == n:\n",
    "            print(\"{}Found\".format(n))\n",
    "            break\n",
    "    else:\n",
    "     print(\"{}not found or not in database\")"
   ]
  },
  {
   "cell_type": "code",
   "execution_count": 46,
   "id": "b3b23354",
   "metadata": {},
   "outputs": [
    {
     "name": "stdout",
     "output_type": "stream",
     "text": [
      "{}not found or not in database\n"
     ]
    }
   ],
   "source": [
    "number_search(57)"
   ]
  },
  {
   "cell_type": "code",
   "execution_count": 55,
   "id": "27e145a0",
   "metadata": {},
   "outputs": [],
   "source": [
    "def number_search(n):\n",
    "    l = [5,7,9,12,21,34,45,47,56,58,67]\n",
    "   \n",
    "    for i in l:\n",
    "        if i == n:\n",
    "            print(\"{}Found\".format(n))\n",
    "            break\n",
    "    else:\n",
    "        print(\"{}not found or not in database\".format(n))"
   ]
  },
  {
   "cell_type": "code",
   "execution_count": 56,
   "id": "f3e2be42",
   "metadata": {},
   "outputs": [
    {
     "name": "stdout",
     "output_type": "stream",
     "text": [
      "99not found or not in database\n"
     ]
    }
   ],
   "source": [
    "number_search(99)"
   ]
  },
  {
   "cell_type": "code",
   "execution_count": 57,
   "id": "76a03587",
   "metadata": {},
   "outputs": [],
   "source": [
    "def add():\n",
    "    x=145\n",
    "    y=345\n",
    "    print(x+y)"
   ]
  },
  {
   "cell_type": "code",
   "execution_count": 58,
   "id": "30a2f7be",
   "metadata": {},
   "outputs": [
    {
     "name": "stdout",
     "output_type": "stream",
     "text": [
      "490\n"
     ]
    }
   ],
   "source": [
    "add()"
   ]
  },
  {
   "cell_type": "code",
   "execution_count": 59,
   "id": "088100fb",
   "metadata": {},
   "outputs": [],
   "source": [
    "def mul():\n",
    "    x=34.5\n",
    "    y=12\n",
    "    z=10\n",
    "    print(x*y*z)"
   ]
  },
  {
   "cell_type": "code",
   "execution_count": 60,
   "id": "5abdffc2",
   "metadata": {},
   "outputs": [
    {
     "name": "stdout",
     "output_type": "stream",
     "text": [
      "4140.0\n"
     ]
    }
   ],
   "source": [
    "mul()"
   ]
  },
  {
   "cell_type": "code",
   "execution_count": 61,
   "id": "b8d171d5",
   "metadata": {},
   "outputs": [],
   "source": [
    "def sub():\n",
    "    k=45\n",
    "    y=34\n",
    "    print(k-y)"
   ]
  },
  {
   "cell_type": "code",
   "execution_count": 62,
   "id": "8d5a4924",
   "metadata": {},
   "outputs": [
    {
     "name": "stdout",
     "output_type": "stream",
     "text": [
      "11\n"
     ]
    }
   ],
   "source": [
    "sub()"
   ]
  },
  {
   "cell_type": "code",
   "execution_count": 63,
   "id": "e749d5af",
   "metadata": {},
   "outputs": [],
   "source": [
    "def floar_division():\n",
    "    g=56\n",
    "    f=24\n",
    "    print(g//f)"
   ]
  },
  {
   "cell_type": "code",
   "execution_count": 64,
   "id": "0bbcf029",
   "metadata": {},
   "outputs": [
    {
     "name": "stdout",
     "output_type": "stream",
     "text": [
      "2\n"
     ]
    }
   ],
   "source": [
    "floar_division()"
   ]
  },
  {
   "cell_type": "code",
   "execution_count": 65,
   "id": "aa88b782",
   "metadata": {},
   "outputs": [],
   "source": [
    "def rem():\n",
    "    j=6\n",
    "    z=5\n",
    "    print(j%z)"
   ]
  },
  {
   "cell_type": "code",
   "execution_count": 66,
   "id": "5b2f5a29",
   "metadata": {},
   "outputs": [
    {
     "name": "stdout",
     "output_type": "stream",
     "text": [
      "1\n"
     ]
    }
   ],
   "source": [
    "rem()"
   ]
  },
  {
   "cell_type": "code",
   "execution_count": 67,
   "id": "625f494a",
   "metadata": {},
   "outputs": [],
   "source": [
    "def div():\n",
    "    a=4800\n",
    "    b=5\n",
    "    c=3\n",
    "    d=4\n",
    "    print(a/b/c/d)"
   ]
  },
  {
   "cell_type": "code",
   "execution_count": 68,
   "id": "5a2d548b",
   "metadata": {},
   "outputs": [
    {
     "name": "stdout",
     "output_type": "stream",
     "text": [
      "80.0\n"
     ]
    }
   ],
   "source": [
    "div()"
   ]
  },
  {
   "cell_type": "code",
   "execution_count": 71,
   "id": "01fdf95c",
   "metadata": {},
   "outputs": [],
   "source": [
    "def exp():\n",
    "    v=4\n",
    "    l=5\n",
    "    s=0\n",
    "    print((v**l)**s)"
   ]
  },
  {
   "cell_type": "code",
   "execution_count": 72,
   "id": "669e7472",
   "metadata": {},
   "outputs": [
    {
     "name": "stdout",
     "output_type": "stream",
     "text": [
      "1\n"
     ]
    }
   ],
   "source": [
    "exp()"
   ]
  },
  {
   "cell_type": "code",
   "execution_count": 73,
   "id": "07370e06",
   "metadata": {},
   "outputs": [],
   "source": [
    "def floar_division(x,y,z):\n",
    "    print(x//y//z)"
   ]
  },
  {
   "cell_type": "code",
   "execution_count": 74,
   "id": "33068cd3",
   "metadata": {},
   "outputs": [
    {
     "name": "stdout",
     "output_type": "stream",
     "text": [
      "1\n"
     ]
    }
   ],
   "source": [
    "floar_division(57,5,7)"
   ]
  },
  {
   "cell_type": "code",
   "execution_count": 75,
   "id": "c328ed47",
   "metadata": {},
   "outputs": [],
   "source": [
    "def floar_division(x,y,z):\n",
    "    print((x//y)//z)"
   ]
  },
  {
   "cell_type": "code",
   "execution_count": 76,
   "id": "5eacd877",
   "metadata": {},
   "outputs": [
    {
     "name": "stdout",
     "output_type": "stream",
     "text": [
      "0\n"
     ]
    }
   ],
   "source": [
    "floar_division(245,25,10)"
   ]
  },
  {
   "cell_type": "code",
   "execution_count": 77,
   "id": "4bc343a0",
   "metadata": {},
   "outputs": [],
   "source": [
    "def floar_division(x,y,z):\n",
    "    print(x//(y//z))"
   ]
  },
  {
   "cell_type": "code",
   "execution_count": 78,
   "id": "489aaa8b",
   "metadata": {},
   "outputs": [
    {
     "name": "stdout",
     "output_type": "stream",
     "text": [
      "250\n"
     ]
    }
   ],
   "source": [
    "floar_division(250,15,8)"
   ]
  },
  {
   "cell_type": "code",
   "execution_count": 79,
   "id": "cd4f3344",
   "metadata": {},
   "outputs": [],
   "source": [
    "def add(a,b,c):\n",
    "    print(a+b+c)"
   ]
  },
  {
   "cell_type": "code",
   "execution_count": 80,
   "id": "7a7c29d2",
   "metadata": {},
   "outputs": [
    {
     "name": "stdout",
     "output_type": "stream",
     "text": [
      "ABCBCD2345\n"
     ]
    }
   ],
   "source": [
    "add(\"ABC\",\"BCD\",\"2345\")"
   ]
  },
  {
   "cell_type": "code",
   "execution_count": 81,
   "id": "d422decc",
   "metadata": {},
   "outputs": [],
   "source": [
    "def sub(q,w):\n",
    "    print(q-w)"
   ]
  },
  {
   "cell_type": "code",
   "execution_count": 82,
   "id": "521d09f1",
   "metadata": {},
   "outputs": [
    {
     "name": "stdout",
     "output_type": "stream",
     "text": [
      "-16\n"
     ]
    }
   ],
   "source": [
    "sub(12,28)"
   ]
  },
  {
   "cell_type": "code",
   "execution_count": 83,
   "id": "2d26b209",
   "metadata": {},
   "outputs": [
    {
     "name": "stdout",
     "output_type": "stream",
     "text": [
      "-16\n"
     ]
    }
   ],
   "source": [
    "res = sub(12,28)"
   ]
  },
  {
   "cell_type": "code",
   "execution_count": 84,
   "id": "8b8c70ac",
   "metadata": {},
   "outputs": [],
   "source": [
    "def get_number(a,b,c):\n",
    "    return a,b,c"
   ]
  },
  {
   "cell_type": "code",
   "execution_count": 85,
   "id": "f7d339a2",
   "metadata": {},
   "outputs": [],
   "source": [
    "res = get_number(120,340,460)"
   ]
  },
  {
   "cell_type": "code",
   "execution_count": 86,
   "id": "dcdee382",
   "metadata": {},
   "outputs": [
    {
     "data": {
      "text/plain": [
       "(120, 340, 460)"
      ]
     },
     "execution_count": 86,
     "metadata": {},
     "output_type": "execute_result"
    }
   ],
   "source": [
    "get_number(120,340,460)"
   ]
  },
  {
   "cell_type": "code",
   "execution_count": 87,
   "id": "6c190f2c",
   "metadata": {},
   "outputs": [
    {
     "data": {
      "text/plain": [
       "(120, 340, 460)"
      ]
     },
     "execution_count": 87,
     "metadata": {},
     "output_type": "execute_result"
    }
   ],
   "source": [
    "res"
   ]
  },
  {
   "cell_type": "code",
   "execution_count": 132,
   "id": "1f6d4fb6",
   "metadata": {},
   "outputs": [],
   "source": [
    "def get_number(a,b,c):\n",
    "    return a,b,c"
   ]
  },
  {
   "cell_type": "code",
   "execution_count": 134,
   "id": "730ca6c0",
   "metadata": {},
   "outputs": [],
   "source": [
    "s,t,y = get_number(50,40,67)"
   ]
  },
  {
   "cell_type": "code",
   "execution_count": 135,
   "id": "ecb10916",
   "metadata": {},
   "outputs": [
    {
     "data": {
      "text/plain": [
       "50"
      ]
     },
     "execution_count": 135,
     "metadata": {},
     "output_type": "execute_result"
    }
   ],
   "source": [
    "s"
   ]
  },
  {
   "cell_type": "code",
   "execution_count": 136,
   "id": "b3f5596a",
   "metadata": {},
   "outputs": [
    {
     "data": {
      "text/plain": [
       "40"
      ]
     },
     "execution_count": 136,
     "metadata": {},
     "output_type": "execute_result"
    }
   ],
   "source": [
    "t"
   ]
  },
  {
   "cell_type": "code",
   "execution_count": 137,
   "id": "c418eca2",
   "metadata": {},
   "outputs": [
    {
     "data": {
      "text/plain": [
       "67"
      ]
     },
     "execution_count": 137,
     "metadata": {},
     "output_type": "execute_result"
    }
   ],
   "source": [
    "y"
   ]
  },
  {
   "cell_type": "code",
   "execution_count": 97,
   "id": "1ab07be7",
   "metadata": {},
   "outputs": [],
   "source": [
    "def get_number(p):\n",
    "    return p"
   ]
  },
  {
   "cell_type": "code",
   "execution_count": 98,
   "id": "f7d05bb3",
   "metadata": {},
   "outputs": [],
   "source": [
    "res = get_number(120)"
   ]
  },
  {
   "cell_type": "code",
   "execution_count": 100,
   "id": "28fb18c9",
   "metadata": {},
   "outputs": [
    {
     "data": {
      "text/plain": [
       "120"
      ]
     },
     "execution_count": 100,
     "metadata": {},
     "output_type": "execute_result"
    }
   ],
   "source": [
    "get_number(120)"
   ]
  },
  {
   "cell_type": "code",
   "execution_count": 101,
   "id": "cb64e1cf",
   "metadata": {},
   "outputs": [
    {
     "data": {
      "text/plain": [
       "600"
      ]
     },
     "execution_count": 101,
     "metadata": {},
     "output_type": "execute_result"
    }
   ],
   "source": [
    "get_number(120)*5"
   ]
  },
  {
   "cell_type": "code",
   "execution_count": 102,
   "id": "e52889fe",
   "metadata": {},
   "outputs": [
    {
     "data": {
      "text/plain": [
       "120"
      ]
     },
     "execution_count": 102,
     "metadata": {},
     "output_type": "execute_result"
    }
   ],
   "source": [
    "res"
   ]
  },
  {
   "cell_type": "code",
   "execution_count": 103,
   "id": "48b5daa1",
   "metadata": {},
   "outputs": [
    {
     "data": {
      "text/plain": [
       "6"
      ]
     },
     "execution_count": 103,
     "metadata": {},
     "output_type": "execute_result"
    }
   ],
   "source": [
    "res//18"
   ]
  },
  {
   "cell_type": "code",
   "execution_count": 140,
   "id": "b7dce259",
   "metadata": {},
   "outputs": [],
   "source": [
    "def get_number_2(v=5,x=3,k=4,j=10):\n",
    "    return v,x,k,j"
   ]
  },
  {
   "cell_type": "code",
   "execution_count": 142,
   "id": "02c6d112",
   "metadata": {},
   "outputs": [
    {
     "data": {
      "text/plain": [
       "(5, 3, 4, 10)"
      ]
     },
     "execution_count": 142,
     "metadata": {},
     "output_type": "execute_result"
    }
   ],
   "source": [
    "get_number_2()"
   ]
  },
  {
   "cell_type": "code",
   "execution_count": 144,
   "id": "c8acc9bf",
   "metadata": {},
   "outputs": [
    {
     "data": {
      "text/plain": [
       "(10, 23, 45, 50)"
      ]
     },
     "execution_count": 144,
     "metadata": {},
     "output_type": "execute_result"
    }
   ],
   "source": [
    "get_number_2(10,23,45,50)"
   ]
  },
  {
   "cell_type": "code",
   "execution_count": 146,
   "id": "fffe9f85",
   "metadata": {},
   "outputs": [],
   "source": [
    "def get_collection(numbers):\n",
    "    return numbers"
   ]
  },
  {
   "cell_type": "code",
   "execution_count": 148,
   "id": "e21cb9bb",
   "metadata": {},
   "outputs": [
    {
     "data": {
      "text/plain": [
       "65"
      ]
     },
     "execution_count": 148,
     "metadata": {},
     "output_type": "execute_result"
    }
   ],
   "source": [
    "get_collection(65)"
   ]
  },
  {
   "cell_type": "markdown",
   "id": "20c1c19b",
   "metadata": {},
   "source": [
    "*numbers means huge amount of number will be taken.."
   ]
  },
  {
   "cell_type": "code",
   "execution_count": 149,
   "id": "ea36daeb",
   "metadata": {},
   "outputs": [],
   "source": [
    "def get_collection(*numbers):\n",
    "    return numbers"
   ]
  },
  {
   "cell_type": "code",
   "execution_count": 150,
   "id": "659d20b9",
   "metadata": {},
   "outputs": [
    {
     "data": {
      "text/plain": [
       "(65, 290, 45, 567, 778, 11122, 87564, 34)"
      ]
     },
     "execution_count": 150,
     "metadata": {},
     "output_type": "execute_result"
    }
   ],
   "source": [
    "get_collection(65,290,45,567,778,11122,87564,34)"
   ]
  },
  {
   "cell_type": "markdown",
   "id": "c2e488fc",
   "metadata": {},
   "source": [
    "type casting(list item shows)"
   ]
  },
  {
   "cell_type": "code",
   "execution_count": 151,
   "id": "e90b314f",
   "metadata": {},
   "outputs": [],
   "source": [
    "def get_collection(*numbers):\n",
    "    l =list(numbers)\n",
    "    return l"
   ]
  },
  {
   "cell_type": "code",
   "execution_count": 152,
   "id": "97ef6d62",
   "metadata": {},
   "outputs": [
    {
     "data": {
      "text/plain": [
       "[65, 290, 45, 567, 778, 11122, 87564, 34]"
      ]
     },
     "execution_count": 152,
     "metadata": {},
     "output_type": "execute_result"
    }
   ],
   "source": [
    "get_collection(65,290,45,567,778,11122,87564,34)"
   ]
  },
  {
   "cell_type": "markdown",
   "id": "84e73975",
   "metadata": {},
   "source": [
    "type casting(set item shows)"
   ]
  },
  {
   "cell_type": "code",
   "execution_count": 155,
   "id": "b92187d0",
   "metadata": {},
   "outputs": [],
   "source": [
    "def get_collection(*numbers):\n",
    "    s =set(numbers)\n",
    "    return s"
   ]
  },
  {
   "cell_type": "code",
   "execution_count": 156,
   "id": "fb834ad9",
   "metadata": {},
   "outputs": [
    {
     "data": {
      "text/plain": [
       "{34, 35, 45, 65, 67, 290, 567, 678, 778, 11122, 87564}"
      ]
     },
     "execution_count": 156,
     "metadata": {},
     "output_type": "execute_result"
    }
   ],
   "source": [
    "get_collection(65,290,45,567,778,11122,87564,34,45,65,67,11122,678,35,67)"
   ]
  },
  {
   "cell_type": "markdown",
   "id": "1361eaa3",
   "metadata": {},
   "source": [
    "list to dictionary convert: **sign use(for example,**infos)"
   ]
  },
  {
   "cell_type": "code",
   "execution_count": 157,
   "id": "466ae1a3",
   "metadata": {},
   "outputs": [],
   "source": [
    "def get_info(**infos):\n",
    "    return infos"
   ]
  },
  {
   "cell_type": "code",
   "execution_count": 158,
   "id": "8d9d7ba5",
   "metadata": {},
   "outputs": [
    {
     "data": {
      "text/plain": [
       "{'name': 'Rakib', 'Id': '181-15-1771', 'Dept': 'CSE', 'Blood_group': 'B+'}"
      ]
     },
     "execution_count": 158,
     "metadata": {},
     "output_type": "execute_result"
    }
   ],
   "source": [
    "get_info(name =\"Rakib\", Id =\"181-15-1771\",Dept = \"CSE\",Blood_group =\"B+\")"
   ]
  },
  {
   "cell_type": "markdown",
   "id": "966c258d",
   "metadata": {},
   "source": [
    "** static don't use before the * static.\n",
    "kwargs -> keyword arguments\n",
    "keyword arguments shouldnot be placed in arguments."
   ]
  },
  {
   "cell_type": "code",
   "execution_count": 159,
   "id": "24769db6",
   "metadata": {},
   "outputs": [],
   "source": [
    "def get_all_values(a,*arg,**kwargs):\n",
    "    pass"
   ]
  },
  {
   "cell_type": "code",
   "execution_count": 160,
   "id": "1c1d0ba8",
   "metadata": {},
   "outputs": [],
   "source": [
    "get_all_values(40,45,55,78,56,name=\"Rakib\",Dept=\"CSE\")"
   ]
  },
  {
   "cell_type": "code",
   "execution_count": 162,
   "id": "237d41fd",
   "metadata": {},
   "outputs": [],
   "source": [
    "def get_all_values(a,*arg,**kwargs):\n",
    "    return a, arg, kwargs"
   ]
  },
  {
   "cell_type": "code",
   "execution_count": 163,
   "id": "f0a7426a",
   "metadata": {},
   "outputs": [
    {
     "data": {
      "text/plain": [
       "(40, (45, 55, 78, 56), {'name': 'Rakib', 'Dept': 'CSE'})"
      ]
     },
     "execution_count": 163,
     "metadata": {},
     "output_type": "execute_result"
    }
   ],
   "source": [
    "get_all_values(40,45,55,78,56,name=\"Rakib\",Dept=\"CSE\")"
   ]
  },
  {
   "cell_type": "markdown",
   "id": "015b3a73",
   "metadata": {},
   "source": [
    "# nested Function:"
   ]
  },
  {
   "cell_type": "code",
   "execution_count": 164,
   "id": "95daaa40",
   "metadata": {},
   "outputs": [],
   "source": [
    "def function1():\n",
    "    def function2():\n",
    "        return \"Inner Function\"\n",
    "    return function2()"
   ]
  },
  {
   "cell_type": "code",
   "execution_count": 165,
   "id": "9ce78aa7",
   "metadata": {},
   "outputs": [
    {
     "data": {
      "text/plain": [
       "'Inner Function'"
      ]
     },
     "execution_count": 165,
     "metadata": {},
     "output_type": "execute_result"
    }
   ],
   "source": [
    "function1()"
   ]
  },
  {
   "cell_type": "code",
   "execution_count": 167,
   "id": "fd400b5e",
   "metadata": {},
   "outputs": [],
   "source": [
    "def function1():\n",
    "    print(\"Outer Function\")\n",
    "    def function2():\n",
    "        return \"Inner Function\"\n",
    "    return function2()"
   ]
  },
  {
   "cell_type": "code",
   "execution_count": 168,
   "id": "a3142f10",
   "metadata": {},
   "outputs": [
    {
     "name": "stdout",
     "output_type": "stream",
     "text": [
      "Outer Function\n"
     ]
    },
    {
     "data": {
      "text/plain": [
       "'Inner Function'"
      ]
     },
     "execution_count": 168,
     "metadata": {},
     "output_type": "execute_result"
    }
   ],
   "source": [
    "function1()"
   ]
  },
  {
   "cell_type": "code",
   "execution_count": 169,
   "id": "6a43114e",
   "metadata": {},
   "outputs": [],
   "source": [
    "def function1():\n",
    "    def function2():\n",
    "        return \"Inner Function\"\n",
    "    return \"Outer Function\",function2()"
   ]
  },
  {
   "cell_type": "code",
   "execution_count": 170,
   "id": "5643a2ae",
   "metadata": {},
   "outputs": [
    {
     "data": {
      "text/plain": [
       "('Outer Function', 'Inner Function')"
      ]
     },
     "execution_count": 170,
     "metadata": {},
     "output_type": "execute_result"
    }
   ],
   "source": [
    "function1()"
   ]
  },
  {
   "cell_type": "code",
   "execution_count": 174,
   "id": "5104ba41",
   "metadata": {},
   "outputs": [],
   "source": [
    "def function1(number,args):\n",
    "    def function2(args):\n",
    "        return args\n",
    "    res = function2(args)\n",
    "    res = res* number\n",
    "    return \"Outer Function\",res"
   ]
  },
  {
   "cell_type": "code",
   "execution_count": 175,
   "id": "b3dfdb53",
   "metadata": {
    "scrolled": true
   },
   "outputs": [
    {
     "data": {
      "text/plain": [
       "('Outer Function', 149000)"
      ]
     },
     "execution_count": 175,
     "metadata": {},
     "output_type": "execute_result"
    }
   ],
   "source": [
    "function1(298,500)"
   ]
  },
  {
   "cell_type": "code",
   "execution_count": 177,
   "id": "7d2bed93",
   "metadata": {},
   "outputs": [],
   "source": [
    "def set_function(numbers):\n",
    "    return numbers"
   ]
  },
  {
   "cell_type": "code",
   "execution_count": 182,
   "id": "8cd6e0e3",
   "metadata": {},
   "outputs": [
    {
     "data": {
      "text/plain": [
       "125"
      ]
     },
     "execution_count": 182,
     "metadata": {},
     "output_type": "execute_result"
    }
   ],
   "source": [
    "set_function(125)"
   ]
  },
  {
   "cell_type": "code",
   "execution_count": 183,
   "id": "713a76a6",
   "metadata": {},
   "outputs": [],
   "source": [
    "another_set_function = set_function"
   ]
  },
  {
   "cell_type": "code",
   "execution_count": 186,
   "id": "95c9ea48",
   "metadata": {},
   "outputs": [
    {
     "data": {
      "text/plain": [
       "2897"
      ]
     },
     "execution_count": 186,
     "metadata": {},
     "output_type": "execute_result"
    }
   ],
   "source": [
    "another_set_function(2897)"
   ]
  },
  {
   "cell_type": "code",
   "execution_count": 197,
   "id": "388b500f",
   "metadata": {},
   "outputs": [],
   "source": [
    "def tour(choice):\n",
    "    def summer():\n",
    "        return \" Dubai\"\n",
    "    def winter():\n",
    "        return \" Russhia\"\n",
    "    def spring():\n",
    "        return \" Bangladesh\"\n",
    "    \n",
    "    if choice == \"summer\":\n",
    "        return summer()\n",
    "    elif choice == \"winter\":\n",
    "        return winter()\n",
    "    elif choice == \"spring\":\n",
    "        return  spring()\n",
    "    else:\n",
    "        return \"please choice any season like 'summer' or 'winter' or 'spring'\"\n",
    "    "
   ]
  },
  {
   "cell_type": "code",
   "execution_count": 198,
   "id": "6560d00d",
   "metadata": {},
   "outputs": [
    {
     "data": {
      "text/plain": [
       "' Russhia'"
      ]
     },
     "execution_count": 198,
     "metadata": {},
     "output_type": "execute_result"
    }
   ],
   "source": [
    "tour(\"winter\")"
   ]
  },
  {
   "cell_type": "code",
   "execution_count": 199,
   "id": "bb4048ec",
   "metadata": {},
   "outputs": [
    {
     "data": {
      "text/plain": [
       "' Dubai'"
      ]
     },
     "execution_count": 199,
     "metadata": {},
     "output_type": "execute_result"
    }
   ],
   "source": [
    "tour(\"summer\")"
   ]
  },
  {
   "cell_type": "code",
   "execution_count": 200,
   "id": "285258fe",
   "metadata": {},
   "outputs": [
    {
     "data": {
      "text/plain": [
       "' Bangladesh'"
      ]
     },
     "execution_count": 200,
     "metadata": {},
     "output_type": "execute_result"
    }
   ],
   "source": [
    "tour(\"spring\")"
   ]
  },
  {
   "cell_type": "code",
   "execution_count": 201,
   "id": "b49e76ec",
   "metadata": {},
   "outputs": [
    {
     "data": {
      "text/plain": [
       "\"please choice any season like 'summer' or 'winter' or 'spring'\""
      ]
     },
     "execution_count": 201,
     "metadata": {},
     "output_type": "execute_result"
    }
   ],
   "source": [
    "tour(\"shfflkahdkj\")"
   ]
  },
  {
   "cell_type": "markdown",
   "id": "d5187783",
   "metadata": {},
   "source": [
    "# Lambda"
   ]
  },
  {
   "cell_type": "code",
   "execution_count": 210,
   "id": "33a0ce21",
   "metadata": {},
   "outputs": [],
   "source": [
    "  get_x = lambda x:x"
   ]
  },
  {
   "cell_type": "code",
   "execution_count": 211,
   "id": "9d3b6daf",
   "metadata": {},
   "outputs": [
    {
     "data": {
      "text/plain": [
       "120"
      ]
     },
     "execution_count": 211,
     "metadata": {},
     "output_type": "execute_result"
    }
   ],
   "source": [
    "get_x(120)"
   ]
  },
  {
   "cell_type": "code",
   "execution_count": 212,
   "id": "98f7cf92",
   "metadata": {},
   "outputs": [],
   "source": [
    "def get_num(number):\n",
    "    return number"
   ]
  },
  {
   "cell_type": "code",
   "execution_count": 214,
   "id": "be24ccf0",
   "metadata": {},
   "outputs": [
    {
     "data": {
      "text/plain": [
       "567"
      ]
     },
     "execution_count": 214,
     "metadata": {},
     "output_type": "execute_result"
    }
   ],
   "source": [
    "get_num(567)"
   ]
  },
  {
   "cell_type": "code",
   "execution_count": 215,
   "id": "2a902a8a",
   "metadata": {},
   "outputs": [],
   "source": [
    "result = lambda x,y,z :x/y/z"
   ]
  },
  {
   "cell_type": "code",
   "execution_count": 216,
   "id": "1e74c71f",
   "metadata": {},
   "outputs": [
    {
     "data": {
      "text/plain": [
       "2.0"
      ]
     },
     "execution_count": 216,
     "metadata": {},
     "output_type": "execute_result"
    }
   ],
   "source": [
    "result(20,5,2)"
   ]
  },
  {
   "cell_type": "code",
   "execution_count": 217,
   "id": "e149c3c5",
   "metadata": {},
   "outputs": [],
   "source": [
    "result = lambda x,y :x%y if x>y else x**y"
   ]
  },
  {
   "cell_type": "code",
   "execution_count": 218,
   "id": "b2dcfdb7",
   "metadata": {},
   "outputs": [
    {
     "data": {
      "text/plain": [
       "3125"
      ]
     },
     "execution_count": 218,
     "metadata": {},
     "output_type": "execute_result"
    }
   ],
   "source": [
    "result(5,5)"
   ]
  },
  {
   "cell_type": "code",
   "execution_count": 219,
   "id": "2784991e",
   "metadata": {},
   "outputs": [
    {
     "data": {
      "text/plain": [
       "1"
      ]
     },
     "execution_count": 219,
     "metadata": {},
     "output_type": "execute_result"
    }
   ],
   "source": [
    "result(7,3)"
   ]
  },
  {
   "cell_type": "code",
   "execution_count": 220,
   "id": "bb416147",
   "metadata": {},
   "outputs": [],
   "source": [
    "def result(x,y):\n",
    "    if x>y:\n",
    "        return x%y\n",
    "    else:\n",
    "        return x**y"
   ]
  },
  {
   "cell_type": "code",
   "execution_count": 221,
   "id": "c6728051",
   "metadata": {},
   "outputs": [
    {
     "data": {
      "text/plain": [
       "16"
      ]
     },
     "execution_count": 221,
     "metadata": {},
     "output_type": "execute_result"
    }
   ],
   "source": [
    "result(2,4)"
   ]
  },
  {
   "cell_type": "code",
   "execution_count": 222,
   "id": "dba8b3e9",
   "metadata": {},
   "outputs": [
    {
     "data": {
      "text/plain": [
       "35"
      ]
     },
     "execution_count": 222,
     "metadata": {},
     "output_type": "execute_result"
    }
   ],
   "source": [
    "result(80,45)"
   ]
  },
  {
   "cell_type": "code",
   "execution_count": null,
   "id": "c7b7d8c6",
   "metadata": {},
   "outputs": [],
   "source": []
  }
 ],
 "metadata": {
  "kernelspec": {
   "display_name": "Python 3 (ipykernel)",
   "language": "python",
   "name": "python3"
  },
  "language_info": {
   "codemirror_mode": {
    "name": "ipython",
    "version": 3
   },
   "file_extension": ".py",
   "mimetype": "text/x-python",
   "name": "python",
   "nbconvert_exporter": "python",
   "pygments_lexer": "ipython3",
   "version": "3.9.7"
  }
 },
 "nbformat": 4,
 "nbformat_minor": 5
}
