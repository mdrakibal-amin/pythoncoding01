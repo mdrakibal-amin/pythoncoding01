{
  "nbformat": 4,
  "nbformat_minor": 0,
  "metadata": {
    "colab": {
      "name": "Copy of Copy of Untitled10.ipynb",
      "provenance": [],
      "authorship_tag": "ABX9TyOwuJYDmcu7d6fTtms7akrJ",
      "include_colab_link": true
    },
    "kernelspec": {
      "name": "python3",
      "display_name": "Python 3"
    },
    "language_info": {
      "name": "python"
    }
  },
  "cells": [
    {
      "cell_type": "markdown",
      "metadata": {
        "id": "view-in-github",
        "colab_type": "text"
      },
      "source": [
        "<a href=\"https://colab.research.google.com/github/mdrakibal-amin/pythoncoding01/blob/main/Copy_of_Copy_of_Untitled10.ipynb\" target=\"_parent\"><img src=\"https://colab.research.google.com/assets/colab-badge.svg\" alt=\"Open In Colab\"/></a>"
      ]
    },
    {
      "cell_type": "markdown",
      "source": [
        "OOP--->>> Object Oriented Programming\n",
        "# Python oop(basic-->1) \n",
        "Abstractions"
      ],
      "metadata": {
        "id": "U4IDKW9SboXp"
      }
    },
    {
      "cell_type": "code",
      "source": [
        "### Class -> object blue print\n",
        "class Student:\n",
        "    # attr(variable/scope/instance), functions(custom, builtin)\n",
        "    # attr\n",
        "    stuname = \"\"\n",
        "    studept = \"\"\n",
        "    stuid   = \"\"\n",
        "    \n",
        "    # function\n",
        "    # Constructor\n",
        "    def __init__(self):\n",
        "        pass\n",
        "    \n",
        "    def getstuname(self):\n",
        "        return self.stuname\n",
        "    \n",
        "    def getstudept(self):\n",
        "        return self.studept\n",
        "    def getstuid(self):\n",
        "        return self.stuid\n",
        "    \n",
        "    def __str__(self):\n",
        "        return self.stuname+\" \"+self.studept+\" \"+self.stuid"
      ],
      "metadata": {
        "id": "btz8C6mnb4SK"
      },
      "execution_count": null,
      "outputs": []
    },
    {
      "cell_type": "markdown",
      "source": [
        "object create"
      ],
      "metadata": {
        "id": "QXPCUBmge_v8"
      }
    },
    {
      "cell_type": "code",
      "source": [
        "student = Student()"
      ],
      "metadata": {
        "id": "k2cFCfv1dKBb"
      },
      "execution_count": null,
      "outputs": []
    },
    {
      "cell_type": "code",
      "source": [
        "student.stuname = \"Rakib Al-Amin\""
      ],
      "metadata": {
        "id": "ehJcEjpAfN8I"
      },
      "execution_count": null,
      "outputs": []
    },
    {
      "cell_type": "code",
      "source": [
        "student.stuname"
      ],
      "metadata": {
        "colab": {
          "base_uri": "https://localhost:8080/",
          "height": 35
        },
        "id": "W31he0k_fOLw",
        "outputId": "758146eb-3d76-4e74-9d8f-12de0ab94bd4"
      },
      "execution_count": null,
      "outputs": [
        {
          "output_type": "execute_result",
          "data": {
            "text/plain": [
              "'Rakib Al-Amin'"
            ],
            "application/vnd.google.colaboratory.intrinsic+json": {
              "type": "string"
            }
          },
          "metadata": {},
          "execution_count": 18
        }
      ]
    },
    {
      "cell_type": "code",
      "source": [
        "student.studept = \"CSE\""
      ],
      "metadata": {
        "id": "30b0JGdXfOU6"
      },
      "execution_count": null,
      "outputs": []
    },
    {
      "cell_type": "code",
      "source": [
        "student.studept"
      ],
      "metadata": {
        "colab": {
          "base_uri": "https://localhost:8080/",
          "height": 35
        },
        "id": "WvNshenFfOfX",
        "outputId": "36ecb068-4eae-4750-f337-6ffbbbe77abe"
      },
      "execution_count": null,
      "outputs": [
        {
          "output_type": "execute_result",
          "data": {
            "text/plain": [
              "'CSE'"
            ],
            "application/vnd.google.colaboratory.intrinsic+json": {
              "type": "string"
            }
          },
          "metadata": {},
          "execution_count": 20
        }
      ]
    },
    {
      "cell_type": "code",
      "source": [
        "student.stuid = \"181-15-1771\""
      ],
      "metadata": {
        "id": "pFbyF8OmfPCy"
      },
      "execution_count": null,
      "outputs": []
    },
    {
      "cell_type": "code",
      "source": [
        "student.stuid"
      ],
      "metadata": {
        "colab": {
          "base_uri": "https://localhost:8080/",
          "height": 35
        },
        "id": "tqUf-vXHfPMg",
        "outputId": "c1eebb97-7d30-464a-f76f-edf5a05d1b19"
      },
      "execution_count": null,
      "outputs": [
        {
          "output_type": "execute_result",
          "data": {
            "text/plain": [
              "'181-15-1771'"
            ],
            "application/vnd.google.colaboratory.intrinsic+json": {
              "type": "string"
            }
          },
          "metadata": {},
          "execution_count": 22
        }
      ]
    },
    {
      "cell_type": "code",
      "source": [
        "student.getstuname()"
      ],
      "metadata": {
        "colab": {
          "base_uri": "https://localhost:8080/",
          "height": 35
        },
        "id": "O7_4mRKmfPQG",
        "outputId": "c5166efb-6442-43d4-8e58-e527f9b82248"
      },
      "execution_count": null,
      "outputs": [
        {
          "output_type": "execute_result",
          "data": {
            "text/plain": [
              "'Rakib Al-Amin'"
            ],
            "application/vnd.google.colaboratory.intrinsic+json": {
              "type": "string"
            }
          },
          "metadata": {},
          "execution_count": 23
        }
      ]
    },
    {
      "cell_type": "code",
      "source": [
        "student.getstudept()"
      ],
      "metadata": {
        "colab": {
          "base_uri": "https://localhost:8080/",
          "height": 35
        },
        "id": "CNwjnJCJfPTv",
        "outputId": "b1694885-9cf5-4369-c93f-1f6a31eb42bc"
      },
      "execution_count": null,
      "outputs": [
        {
          "output_type": "execute_result",
          "data": {
            "text/plain": [
              "'CSE'"
            ],
            "application/vnd.google.colaboratory.intrinsic+json": {
              "type": "string"
            }
          },
          "metadata": {},
          "execution_count": 24
        }
      ]
    },
    {
      "cell_type": "code",
      "source": [
        "student.getstuid()"
      ],
      "metadata": {
        "colab": {
          "base_uri": "https://localhost:8080/",
          "height": 35
        },
        "id": "ZF31olwfgqd-",
        "outputId": "4dce080d-6192-4de6-fc26-3bed64fca596"
      },
      "execution_count": null,
      "outputs": [
        {
          "output_type": "execute_result",
          "data": {
            "text/plain": [
              "'181-15-1771'"
            ],
            "application/vnd.google.colaboratory.intrinsic+json": {
              "type": "string"
            }
          },
          "metadata": {},
          "execution_count": 25
        }
      ]
    },
    {
      "cell_type": "code",
      "source": [
        "print(student)"
      ],
      "metadata": {
        "colab": {
          "base_uri": "https://localhost:8080/"
        },
        "id": "qeMgnpiPgqoQ",
        "outputId": "ef6cb198-2916-47ab-bea7-5b615f2062c1"
      },
      "execution_count": null,
      "outputs": [
        {
          "output_type": "stream",
          "name": "stdout",
          "text": [
            "Rakib Al-Amin CSE 181-15-1771\n"
          ]
        }
      ]
    },
    {
      "cell_type": "markdown",
      "source": [
        "OOp principle\n",
        "Abstraction method:\n",
        "\n",
        "Abstraction class--->>> Does not support object Creation"
      ],
      "metadata": {
        "id": "f-WLQxCrObgD"
      }
    },
    {
      "cell_type": "code",
      "source": [
        "from abc import ABC, abstractmethod\n",
        "\n",
        "class Student(ABC):\n",
        "\n",
        "    # class -> signeture\n",
        "\n",
        "    @abstractmethod\n",
        "    def getname(self):\n",
        "        pass\n",
        "\n",
        "    @abstractmethod\n",
        "    def setname(self, name):\n",
        "        pass\n",
        "\n",
        "    @abstractmethod\n",
        "    def getdept(self):\n",
        "        pass\n",
        "\n",
        "    @abstractmethod\n",
        "    def setdept(self, dept):\n",
        "        pass\n",
        "    @abstractmethod\n",
        "    def getid(self):\n",
        "        pass\n",
        "\n",
        "    @abstractmethod\n",
        "    def setid(self, id):\n",
        "        pass"
      ],
      "metadata": {
        "id": "G7hFTzwbpZy3"
      },
      "execution_count": 64,
      "outputs": []
    },
    {
      "cell_type": "code",
      "source": [
        "student = StudentImpl()"
      ],
      "metadata": {
        "id": "eiviqvLMpeRc"
      },
      "execution_count": 67,
      "outputs": []
    }
  ]
}